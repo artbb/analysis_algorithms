{
 "cells": [
  {
   "cell_type": "markdown",
   "metadata": {},
   "source": [
    "**1. Сформировать с помощью sklearn.make_classification датасет из 100 объектов с двумя признаками, обучить случайный лес из 1, 3, 10 и 50 деревьев и визуализировать их разделяющие гиперплоскости на графиках (по подобию визуализации деревьев из предыдущего урока, необходимо только заменить вызов функции predict на tree_vote).**"
   ]
  },
  {
   "cell_type": "code",
   "execution_count": 1,
   "metadata": {},
   "outputs": [],
   "source": [
    "import matplotlib.pyplot as plt\n",
    "import random\n",
    "\n",
    "from matplotlib.colors import ListedColormap\n",
    "from sklearn.datasets import make_classification\n",
    "\n",
    "import numpy as np"
   ]
  },
  {
   "cell_type": "code",
   "execution_count": 9,
   "metadata": {},
   "outputs": [],
   "source": [
    "# сгенерируем данные, представляющие собой 100 объектов с 2-я признаками\n",
    "classification_data, classification_labels = make_classification(n_samples=100,\n",
    "                                                                 n_features=2, n_informative=2, \n",
    "                                                                 n_classes=4, n_redundant=0, \n",
    "                                                                 n_clusters_per_class=1)"
   ]
  },
  {
   "cell_type": "code",
   "execution_count": 16,
   "metadata": {},
   "outputs": [
    {
     "data": {
      "text/plain": [
       "array([[-1.08686404e+00, -1.18409334e+00],\n",
       "       [ 1.04017993e+00, -5.45703387e-01],\n",
       "       [ 8.28285546e-01,  1.10020024e+00],\n",
       "       [-2.16313558e-01, -2.15118592e+00],\n",
       "       [-8.15664429e-01, -5.32763627e-01],\n",
       "       [-1.83540371e+00,  8.77925610e-01],\n",
       "       [ 1.63691455e+00,  3.35239064e+00],\n",
       "       [-2.15120364e-01,  9.23408946e-01],\n",
       "       [-7.45581648e-01, -3.97768164e-01],\n",
       "       [-1.17816203e+00, -1.44968335e+00],\n",
       "       [ 1.10801720e+00,  1.07801610e+00],\n",
       "       [ 1.27191658e+00,  2.97874922e-01],\n",
       "       [ 1.36717672e+00,  3.24613239e+00],\n",
       "       [-1.30530301e+00, -1.74548238e+00],\n",
       "       [-9.71056078e-01,  1.29055984e+00],\n",
       "       [-5.62871284e-01,  2.01983636e-01],\n",
       "       [ 7.98840667e-01, -1.28440762e+00],\n",
       "       [ 1.82363205e+00, -5.02093061e-01],\n",
       "       [-2.01810757e+00, -3.51808134e+00],\n",
       "       [-1.10478505e+00, -1.59234154e-01],\n",
       "       [ 1.82590479e-01,  7.07708032e-01],\n",
       "       [ 1.38030490e+00,  1.21099557e+00],\n",
       "       [ 6.72974678e-01, -6.33393195e-01],\n",
       "       [ 9.78485930e-01,  2.07958654e+00],\n",
       "       [-1.39677116e+00,  1.68628117e+00],\n",
       "       [ 1.37116102e+00,  9.60947812e-01],\n",
       "       [-7.46108065e-01, -3.75797585e-01],\n",
       "       [-2.26877972e+00,  1.45354667e+00],\n",
       "       [ 7.39335748e-01, -6.86989540e-02],\n",
       "       [-1.20002276e+00, -1.45812237e+00],\n",
       "       [ 6.82888935e-01, -1.27713466e-01],\n",
       "       [-2.29036412e-01,  1.14191687e+00],\n",
       "       [ 7.14128989e-01,  5.03578857e-01],\n",
       "       [-2.15789817e+00,  1.90905987e+00],\n",
       "       [-9.87070507e-02,  1.69148834e+00],\n",
       "       [ 1.98684069e+00,  9.85086034e-02],\n",
       "       [-9.72376764e-01,  1.33929301e+00],\n",
       "       [-8.25890717e-01, -5.93558511e-01],\n",
       "       [ 8.06878923e-01,  3.83278370e-01],\n",
       "       [ 1.74522157e+00,  1.01519609e+00],\n",
       "       [-1.36492560e+00,  3.10519227e+00],\n",
       "       [ 1.00542475e+00, -1.49773865e-01],\n",
       "       [-1.47593140e+00,  1.34087887e+00],\n",
       "       [ 3.83059312e-01, -3.66050973e-01],\n",
       "       [ 2.16893899e-01,  8.13192897e-01],\n",
       "       [ 2.45875874e-03, -1.76531986e+00],\n",
       "       [-5.47448677e-01,  1.65997977e+00],\n",
       "       [ 5.91400950e-01,  2.31177768e-01],\n",
       "       [ 1.75146696e+00,  3.25413809e+00],\n",
       "       [-1.78688036e+00, -2.89600704e+00],\n",
       "       [ 8.72250982e-01, -7.73964992e-01],\n",
       "       [ 1.30655171e+00, -1.24692613e+00],\n",
       "       [ 1.87679098e-01, -2.59482544e+00],\n",
       "       [-1.31546157e+00,  1.45185854e+00],\n",
       "       [ 6.51470547e-02,  1.30686811e-02],\n",
       "       [ 7.69365448e-01, -1.44219169e+00],\n",
       "       [-5.62638134e-01,  4.37686354e-02],\n",
       "       [ 1.26207737e+00,  3.13072696e+00],\n",
       "       [-1.08497587e+00,  1.55870710e+00],\n",
       "       [ 3.24255133e-01, -1.72115848e+00],\n",
       "       [ 9.63102613e-01,  7.18301106e-01],\n",
       "       [ 1.35210762e+00, -8.43271613e-01],\n",
       "       [-1.02366711e+00, -1.06762467e+00],\n",
       "       [ 1.31789365e+00, -3.96882023e-01],\n",
       "       [-2.10255874e+00,  9.38188983e-01],\n",
       "       [ 7.10172631e-01, -1.28803239e+00],\n",
       "       [-1.04365273e-01,  5.31598906e-01],\n",
       "       [-1.33859106e+00, -1.79906985e+00],\n",
       "       [ 1.71950177e-01, -1.13388886e+00],\n",
       "       [-4.82478513e-01,  2.75972376e-01],\n",
       "       [ 2.06515824e-01, -4.92044197e-01],\n",
       "       [ 8.09162815e-01, -5.29650109e-01],\n",
       "       [-2.06272155e+00,  1.70513573e+00],\n",
       "       [-1.35663306e+00, -1.83587681e+00],\n",
       "       [-1.41589101e+00, -1.99229754e+00],\n",
       "       [-1.01138761e+00, -1.02472902e+00],\n",
       "       [ 1.14585968e-01, -1.42275023e+00],\n",
       "       [-1.18037134e+00, -1.46785667e+00],\n",
       "       [-7.68537389e-01, -4.33016494e-01],\n",
       "       [-1.43533324e+00, -2.07759426e+00],\n",
       "       [ 1.10907700e+00, -1.36678312e+00],\n",
       "       [ 1.61684045e+00,  1.34307086e+00],\n",
       "       [-1.20868957e+00, -1.50281011e+00],\n",
       "       [-1.20104123e+00, -1.48846042e+00],\n",
       "       [-1.22272938e+00, -1.49379387e+00],\n",
       "       [ 1.58413764e-01,  1.07901070e+00],\n",
       "       [-9.11477776e-01, -7.70645017e-01],\n",
       "       [ 1.28573965e+00,  2.56091817e-01],\n",
       "       [ 6.65358199e-01,  2.30108014e-02],\n",
       "       [ 9.60991915e-01, -1.14116682e+00],\n",
       "       [ 7.85289203e-01, -8.25816729e-01],\n",
       "       [ 5.58503939e-01,  7.77088384e-01],\n",
       "       [ 6.96578317e-01, -1.18069332e+00],\n",
       "       [ 8.24600801e-01, -9.88257935e-01],\n",
       "       [ 1.15032119e+00, -3.33909166e-01],\n",
       "       [ 7.67903971e-01, -1.01275942e+00],\n",
       "       [ 6.29380659e-01,  1.69504138e+00],\n",
       "       [ 5.74324238e-02, -2.48761450e+00],\n",
       "       [ 2.32831068e-02, -1.55047328e+00],\n",
       "       [ 2.39048037e-01, -1.52532879e+00]])"
      ]
     },
     "execution_count": 16,
     "metadata": {},
     "output_type": "execute_result"
    }
   ],
   "source": [
    "classification_data"
   ]
  },
  {
   "cell_type": "code",
   "execution_count": 10,
   "metadata": {},
   "outputs": [
    {
     "data": {
      "image/png": "[encoded data removed]",
      "text/plain": [
       "<Figure size 576x576 with 1 Axes>"
      ]
     },
     "metadata": {
      "needs_background": "light"
     },
     "output_type": "display_data"
    }
   ],
   "source": [
    "# визуализируем сгенерированные данные\n",
    "\n",
    "colors = ListedColormap(['red', 'blue'])\n",
    "light_colors = ListedColormap(['lightcoral', 'lightblue'])\n",
    "\n",
    "plt.figure(figsize=(8,8))\n",
    "plt.scatter(classification_data[:, 0], classification_data[:, 1], \n",
    "              c=classification_labels, cmap=colors);"
   ]
  },
  {
   "cell_type": "code",
   "execution_count": 17,
   "metadata": {},
   "outputs": [],
   "source": [
    "np.random.seed(42)\n",
    "\n",
    "def get_bootstrap(data, labels, N):\n",
    "    n_samples = data.shape[0] # размер совпадает с исходной выборкой\n",
    "    bootstrap = []\n",
    "    \n",
    "    for i in range(N):\n",
    "        \n",
    "        sample_index = np.random.randint(0, n_samples, size=n_samples)\n",
    "        b_data = data[sample_index]\n",
    "        b_labels = labels[sample_index]\n",
    "        \n",
    "        bootstrap.append((b_data, b_labels))\n",
    "        \n",
    "    return bootstrap"
   ]
  },
  {
   "cell_type": "code",
   "execution_count": 18,
   "metadata": {},
   "outputs": [
    {
     "data": {
      "text/plain": [
       "[(array([[ 1.30655171, -1.24692613],\n",
       "         [ 0.69657832, -1.18069332],\n",
       "         [-0.97105608,  1.29055984],\n",
       "         [ 0.80916281, -0.52965011],\n",
       "         [ 0.96310261,  0.71830111],\n",
       "         [ 0.18259048,  0.70770803],\n",
       "         [-1.20868957, -1.50281011],\n",
       "         [-0.91147778, -0.77064502],\n",
       "         [-1.41589101, -1.99229754],\n",
       "         [-1.41589101, -1.99229754],\n",
       "         [ 1.28573965,  0.25609182],\n",
       "         [ 0.23904804, -1.52532879],\n",
       "         [ 0.97848593,  2.07958654],\n",
       "         [ 0.82828555,  1.10020024],\n",
       "         [ 1.3803049 ,  1.21099557],\n",
       "         [ 0.1876791 , -2.59482544],\n",
       "         [ 1.04017993, -0.54570339],\n",
       "         [ 1.28573965,  0.25609182],\n",
       "         [-1.20002276, -1.45812237],\n",
       "         [-0.82589072, -0.59355851],\n",
       "         [ 1.04017993, -0.54570339],\n",
       "         [ 1.31789365, -0.39688202],\n",
       "         [ 0.32425513, -1.72115848],\n",
       "         [ 0.18259048,  0.70770803],\n",
       "         [ 0.71412899,  0.50357886],\n",
       "         [-1.01138761, -1.02472902],\n",
       "         [ 1.26207737,  3.13072696],\n",
       "         [ 1.3803049 ,  1.21099557],\n",
       "         [ 0.6653582 ,  0.0230108 ],\n",
       "         [ 1.75146696,  3.25413809],\n",
       "         [ 0.7852892 , -0.82581673],\n",
       "         [-1.08497587,  1.5587071 ],\n",
       "         [ 1.00542475, -0.14977387],\n",
       "         [ 0.55850394,  0.77708838],\n",
       "         [ 0.32425513, -1.72115848],\n",
       "         [-1.43533324, -2.07759426],\n",
       "         [-0.97105608,  1.29055984],\n",
       "         [ 1.35210762, -0.84327161],\n",
       "         [ 1.35210762, -0.84327161],\n",
       "         [-0.54744868,  1.65997977],\n",
       "         [ 1.35210762, -0.84327161],\n",
       "         [ 0.87225098, -0.77396499],\n",
       "         [ 0.06514705,  0.01306868],\n",
       "         [ 1.31789365, -0.39688202],\n",
       "         [ 0.82828555,  1.10020024],\n",
       "         [ 0.87225098, -0.77396499],\n",
       "         [ 1.63691455,  3.35239064],\n",
       "         [ 0.18259048,  0.70770803],\n",
       "         [-2.06272155,  1.70513573],\n",
       "         [ 0.80687892,  0.38327837],\n",
       "         [ 1.82363205, -0.50209306],\n",
       "         [-0.21631356, -2.15118592],\n",
       "         [ 0.6653582 ,  0.0230108 ],\n",
       "         [ 0.32425513, -1.72115848],\n",
       "         [-1.30530301, -1.74548238],\n",
       "         [-0.74558165, -0.39776816],\n",
       "         [ 0.96099191, -1.14116682],\n",
       "         [ 0.1876791 , -2.59482544],\n",
       "         [ 1.04017993, -0.54570339],\n",
       "         [-1.20104123, -1.48846042],\n",
       "         [ 0.55850394,  0.77708838],\n",
       "         [ 0.32425513, -1.72115848],\n",
       "         [ 0.20651582, -0.4920442 ],\n",
       "         [ 0.38305931, -0.36605097],\n",
       "         [-0.21512036,  0.92340895],\n",
       "         [-0.54744868,  1.65997977],\n",
       "         [-0.09870705,  1.69148834],\n",
       "         [-1.18037134, -1.46785667],\n",
       "         [ 1.109077  , -1.36678312],\n",
       "         [ 1.98684069,  0.0985086 ],\n",
       "         [-1.78688036, -2.89600704],\n",
       "         [-0.21631356, -2.15118592],\n",
       "         [ 1.04017993, -0.54570339],\n",
       "         [-1.83540371,  0.87792561],\n",
       "         [-1.31546157,  1.45185854],\n",
       "         [-0.21631356, -2.15118592],\n",
       "         [-1.31546157,  1.45185854],\n",
       "         [ 0.69657832, -1.18069332],\n",
       "         [-1.02366711, -1.06762467],\n",
       "         [ 1.82363205, -0.50209306],\n",
       "         [ 0.96099191, -1.14116682],\n",
       "         [ 0.38305931, -0.36605097],\n",
       "         [-2.15789817,  1.90905987],\n",
       "         [-1.35663306, -1.83587681],\n",
       "         [ 1.35210762, -0.84327161],\n",
       "         [ 0.23904804, -1.52532879],\n",
       "         [-1.30530301, -1.74548238],\n",
       "         [ 1.15032119, -0.33390917],\n",
       "         [ 0.59140095,  0.23117777],\n",
       "         [-0.97105608,  1.29055984],\n",
       "         [ 0.80916281, -0.52965011],\n",
       "         [-1.18037134, -1.46785667],\n",
       "         [-0.91147778, -0.77064502],\n",
       "         [ 1.35210762, -0.84327161],\n",
       "         [ 1.74522157,  1.01519609],\n",
       "         [-1.22272938, -1.49379387],\n",
       "         [-1.43533324, -2.07759426],\n",
       "         [ 1.61684045,  1.34307086],\n",
       "         [ 0.1876791 , -2.59482544],\n",
       "         [ 0.97848593,  2.07958654]]),\n",
       "  array([1, 1, 2, 3, 3, 2, 0, 0, 0, 0, 3, 3, 3, 3, 3, 1, 1, 3, 0, 0, 1, 1,\n",
       "         1, 2, 2, 0, 3, 3, 3, 3, 1, 2, 3, 3, 1, 0, 2, 1, 1, 2, 1, 1, 2, 1,\n",
       "         3, 1, 3, 2, 2, 3, 1, 1, 3, 1, 0, 0, 1, 1, 1, 0, 3, 1, 2, 3, 0, 2,\n",
       "         2, 0, 1, 1, 0, 1, 1, 2, 2, 1, 2, 1, 0, 1, 1, 3, 2, 0, 1, 3, 0, 1,\n",
       "         3, 2, 3, 0, 0, 1, 1, 0, 0, 3, 1, 3])),\n",
       " (array([[ 1.37116102,  0.96094781],\n",
       "         [ 0.6653582 ,  0.0230108 ],\n",
       "         [ 0.32425513, -1.72115848],\n",
       "         [-1.3649256 ,  3.10519227],\n",
       "         [ 0.73933575, -0.06869895],\n",
       "         [-0.97105608,  1.29055984],\n",
       "         [ 0.2168939 ,  0.8131929 ],\n",
       "         [-2.10255874,  0.93818898],\n",
       "         [ 0.6653582 ,  0.0230108 ],\n",
       "         [ 0.20651582, -0.4920442 ],\n",
       "         [-0.74558165, -0.39776816],\n",
       "         [ 1.28573965,  0.25609182],\n",
       "         [-1.08686404, -1.18409334],\n",
       "         [-0.21512036,  0.92340895],\n",
       "         [ 1.28573965,  0.25609182],\n",
       "         [-1.02366711, -1.06762467],\n",
       "         [ 1.1080172 ,  1.0780161 ],\n",
       "         [ 1.109077  , -1.36678312],\n",
       "         [-0.21512036,  0.92340895],\n",
       "         [-0.09870705,  1.69148834],\n",
       "         [-0.09870705,  1.69148834],\n",
       "         [ 0.71412899,  0.50357886],\n",
       "         [-0.81566443, -0.53276363],\n",
       "         [-1.3649256 ,  3.10519227],\n",
       "         [-2.26877972,  1.45354667],\n",
       "         [ 1.63691455,  3.35239064],\n",
       "         [-2.06272155,  1.70513573],\n",
       "         [ 0.80916281, -0.52965011],\n",
       "         [ 1.27191658,  0.29787492],\n",
       "         [-2.15789817,  1.90905987],\n",
       "         [ 0.71412899,  0.50357886],\n",
       "         [ 0.59140095,  0.23117777],\n",
       "         [ 0.67297468, -0.63339319],\n",
       "         [ 1.35210762, -0.84327161],\n",
       "         [ 1.28573965,  0.25609182],\n",
       "         [-0.97237676,  1.33929301],\n",
       "         [ 0.02328311, -1.55047328],\n",
       "         [ 0.38305931, -0.36605097],\n",
       "         [ 0.15841376,  1.0790107 ],\n",
       "         [ 0.7852892 , -0.82581673],\n",
       "         [-0.09870705,  1.69148834],\n",
       "         [-2.10255874,  0.93818898],\n",
       "         [ 0.02328311, -1.55047328],\n",
       "         [-0.54744868,  1.65997977],\n",
       "         [-1.18037134, -1.46785667],\n",
       "         [ 0.82828555,  1.10020024],\n",
       "         [-1.08686404, -1.18409334],\n",
       "         [-0.81566443, -0.53276363],\n",
       "         [ 0.96099191, -1.14116682],\n",
       "         [-1.30530301, -1.74548238],\n",
       "         [-0.74610806, -0.37579758],\n",
       "         [-0.74558165, -0.39776816],\n",
       "         [-0.76853739, -0.43301649],\n",
       "         [-0.97105608,  1.29055984],\n",
       "         [ 0.96099191, -1.14116682],\n",
       "         [ 1.00542475, -0.14977387],\n",
       "         [ 0.11458597, -1.42275023],\n",
       "         [ 0.87225098, -0.77396499],\n",
       "         [-1.02366711, -1.06762467],\n",
       "         [ 0.76790397, -1.01275942],\n",
       "         [ 1.30655171, -1.24692613],\n",
       "         [ 0.76790397, -1.01275942],\n",
       "         [-0.21631356, -2.15118592],\n",
       "         [ 0.8246008 , -0.98825794],\n",
       "         [ 0.67297468, -0.63339319],\n",
       "         [-0.97105608,  1.29055984],\n",
       "         [-1.4759314 ,  1.34087887],\n",
       "         [ 0.73933575, -0.06869895],\n",
       "         [ 1.98684069,  0.0985086 ],\n",
       "         [ 1.36717672,  3.24613239],\n",
       "         [-0.22903641,  1.14191687],\n",
       "         [ 0.20651582, -0.4920442 ],\n",
       "         [-1.08497587,  1.5587071 ],\n",
       "         [ 0.15841376,  1.0790107 ],\n",
       "         [-2.26877972,  1.45354667],\n",
       "         [ 0.71017263, -1.28803239],\n",
       "         [ 1.00542475, -0.14977387],\n",
       "         [ 0.2168939 ,  0.8131929 ],\n",
       "         [ 1.35210762, -0.84327161],\n",
       "         [-0.56263813,  0.04376864],\n",
       "         [-1.83540371,  0.87792561],\n",
       "         [-2.26877972,  1.45354667],\n",
       "         [-2.26877972,  1.45354667],\n",
       "         [ 0.38305931, -0.36605097],\n",
       "         [-1.20104123, -1.48846042],\n",
       "         [-1.20002276, -1.45812237],\n",
       "         [ 1.35210762, -0.84327161],\n",
       "         [-1.41589101, -1.99229754],\n",
       "         [ 0.55850394,  0.77708838],\n",
       "         [ 0.6653582 ,  0.0230108 ],\n",
       "         [ 1.35210762, -0.84327161],\n",
       "         [ 0.62938066,  1.69504138],\n",
       "         [-1.08686404, -1.18409334],\n",
       "         [-0.74610806, -0.37579758],\n",
       "         [ 1.35210762, -0.84327161],\n",
       "         [ 0.11458597, -1.42275023],\n",
       "         [ 0.82828555,  1.10020024],\n",
       "         [-0.48247851,  0.27597238],\n",
       "         [ 0.80916281, -0.52965011],\n",
       "         [-0.74610806, -0.37579758]]),\n",
       "  array([1, 3, 1, 2, 3, 2, 2, 2, 3, 2, 0, 3, 0, 0, 3, 0, 3, 1, 0, 2, 2, 2,\n",
       "         0, 2, 2, 3, 2, 3, 3, 2, 2, 3, 3, 1, 3, 2, 1, 3, 2, 1, 2, 2, 1, 2,\n",
       "         0, 3, 0, 0, 1, 0, 0, 0, 0, 2, 1, 3, 3, 1, 0, 1, 1, 1, 1, 1, 3, 2,\n",
       "         2, 3, 1, 3, 2, 2, 2, 2, 2, 1, 3, 2, 1, 0, 2, 2, 2, 3, 0, 0, 1, 0,\n",
       "         3, 3, 1, 2, 0, 0, 1, 3, 3, 0, 3, 0]))]"
      ]
     },
     "execution_count": 18,
     "metadata": {},
     "output_type": "execute_result"
    }
   ],
   "source": [
    "get_bootstrap(classification_data, classification_labels, 2)"
   ]
  },
  {
   "cell_type": "code",
   "execution_count": 19,
   "metadata": {},
   "outputs": [],
   "source": [
    "def get_subsample(len_sample):\n",
    "    # будем сохранять не сами признаки, а их индексы\n",
    "    sample_indexes = list(range(len_sample))\n",
    "\n",
    "    len_subsample = int(np.sqrt(len_sample))\n",
    "    \n",
    "    subsample = np.random.choice(sample_indexes, size=len_subsample, replace=False)\n",
    "\n",
    "    return subsample"
   ]
  },
  {
   "cell_type": "code",
   "execution_count": 20,
   "metadata": {},
   "outputs": [],
   "source": [
    "# Реализуем класс узла\n",
    "\n",
    "class Node:\n",
    "    \n",
    "    def __init__(self, index, t, true_branch, false_branch):\n",
    "        self.index = index  # индекс признака, по которому ведется сравнение с порогом в этом узле\n",
    "        self.t = t  # значение порога\n",
    "        self.true_branch = true_branch  # поддерево, удовлетворяющее условию в узле\n",
    "        self.false_branch = false_branch  # поддерево, не удовлетворяющее условию в узле"
   ]
  },
  {
   "cell_type": "code",
   "execution_count": 21,
   "metadata": {},
   "outputs": [],
   "source": [
    "# И класс терминального узла (листа)\n",
    "\n",
    "class Leaf:\n",
    "    \n",
    "    def __init__(self, data, labels):\n",
    "        self.data = data\n",
    "        self.labels = labels\n",
    "        self.prediction = self.predict()\n",
    "        \n",
    "    def predict(self):\n",
    "        # подсчет количества объектов разных классов\n",
    "        classes = {}  # сформируем словарь \"класс: количество объектов\"\n",
    "        for label in self.labels:\n",
    "            if label not in classes:\n",
    "                classes[label] = 0\n",
    "            classes[label] += 1\n",
    "            \n",
    "        # найдем класс, количество объектов которого будет максимальным в этом листе и вернем его    \n",
    "        prediction = max(classes, key=classes.get)\n",
    "        return prediction     "
   ]
  },
  {
   "cell_type": "code",
   "execution_count": 22,
   "metadata": {},
   "outputs": [],
   "source": [
    "# Расчет критерия Джини\n",
    "\n",
    "def gini(labels):\n",
    "    #  подсчет количества объектов разных классов\n",
    "    classes = {}\n",
    "    for label in labels:\n",
    "        if label not in classes:\n",
    "            classes[label] = 0\n",
    "        classes[label] += 1\n",
    "    \n",
    "    #  расчет критерия\n",
    "    impurity = 1\n",
    "    for label in classes:\n",
    "        p = classes[label] / len(labels)\n",
    "        impurity -= p ** 2\n",
    "        \n",
    "    return impurity"
   ]
  },
  {
   "cell_type": "code",
   "execution_count": 23,
   "metadata": {},
   "outputs": [],
   "source": [
    "# Расчет прироста\n",
    "\n",
    "def gain(left_labels, right_labels, root_gini):\n",
    "\n",
    "    # доля выборки, ушедшая в левое поддерево\n",
    "    p = float(left_labels.shape[0]) / (left_labels.shape[0] + right_labels.shape[0])\n",
    "    \n",
    "    return root_gini - p * gini(left_labels) - (1 - p) * gini(right_labels)"
   ]
  },
  {
   "cell_type": "code",
   "execution_count": 24,
   "metadata": {},
   "outputs": [],
   "source": [
    "# Разбиение датасета в узле\n",
    "\n",
    "def split(data, labels, column_index, t):\n",
    "    \n",
    "    left = np.where(data[:, column_index] <= t)\n",
    "    right = np.where(data[:, column_index] > t)\n",
    "        \n",
    "    true_data = data[left]\n",
    "    false_data = data[right]\n",
    "    \n",
    "    true_labels = labels[left]\n",
    "    false_labels = labels[right]\n",
    "        \n",
    "    return true_data, false_data, true_labels, false_labels"
   ]
  },
  {
   "cell_type": "code",
   "execution_count": 25,
   "metadata": {},
   "outputs": [],
   "source": [
    "# Нахождение наилучшего разбиения\n",
    "\n",
    "def find_best_split(data, labels):\n",
    "    \n",
    "    #  обозначим минимальное количество объектов в узле\n",
    "    min_leaf_samples = 5\n",
    "\n",
    "    root_gini = gini(labels)\n",
    "\n",
    "    best_gain = 0\n",
    "    best_t = None\n",
    "    best_index = None\n",
    "    \n",
    "    n_features = data.shape[1]\n",
    "    \n",
    "    feature_subsample_indices = get_subsample(n_features) # выбираем случайные признаки\n",
    "    \n",
    "    for index in feature_subsample_indices:\n",
    "        # будем проверять только уникальные значения признака, исключая повторения\n",
    "        t_values = np.unique(data[:, index])\n",
    "        \n",
    "        for t in t_values:\n",
    "            true_data, false_data, true_labels, false_labels = split(data, labels, index, t)\n",
    "            #  пропускаем разбиения, в которых в узле остается менее 5 объектов\n",
    "#             if len(true_data) < min_leaf_samples or len(false_data) < min_leaf_samples:\n",
    "#                 continue\n",
    "            \n",
    "            current_gain = gain(true_labels, false_labels, root_gini)\n",
    "            \n",
    "            #  выбираем порог, на котором получается максимальный прирост качества\n",
    "            if current_gain > best_gain:\n",
    "                best_gain, best_t, best_index = current_gain, t, index\n",
    "\n",
    "    return best_gain, best_t, best_index"
   ]
  },
  {
   "cell_type": "code",
   "execution_count": 26,
   "metadata": {},
   "outputs": [],
   "source": [
    "# Построение дерева с помощью рекурсивной функции\n",
    "\n",
    "def build_tree(data, labels):\n",
    "\n",
    "    gain, t, index = find_best_split(data, labels)\n",
    "\n",
    "    #  Базовый случай - прекращаем рекурсию, когда нет прироста в качества\n",
    "    if gain == 0:\n",
    "        return Leaf(data, labels)\n",
    "\n",
    "    true_data, false_data, true_labels, false_labels = split(data, labels, index, t)\n",
    "\n",
    "    # Рекурсивно строим два поддерева\n",
    "    true_branch = build_tree(true_data, true_labels)\n",
    "    false_branch = build_tree(false_data, false_labels)\n",
    "\n",
    "    # Возвращаем класс узла со всеми поддеревьями, то есть целого дерева\n",
    "    return Node(index, t, true_branch, false_branch)"
   ]
  },
  {
   "cell_type": "code",
   "execution_count": 28,
   "metadata": {},
   "outputs": [],
   "source": [
    "def random_forest(data, labels, n_trees):\n",
    "    forest = []\n",
    "    bootstrap = get_bootstrap(data, labels, n_trees)\n",
    "    \n",
    "    for b_data, b_labels in bootstrap:\n",
    "        forest.append(build_tree(b_data, b_labels))\n",
    "        \n",
    "    return forest\n"
   ]
  },
  {
   "cell_type": "code",
   "execution_count": 29,
   "metadata": {},
   "outputs": [],
   "source": [
    "# Функция классификации отдельного объекта\n",
    "\n",
    "def classify_object(obj, node):\n",
    "\n",
    "    #  Останавливаем рекурсию, если достигли листа\n",
    "    if isinstance(node, Leaf):\n",
    "        answer = node.prediction\n",
    "        return answer\n",
    "\n",
    "    if obj[node.index] <= node.t:\n",
    "        return classify_object(obj, node.true_branch)\n",
    "    else:\n",
    "        return classify_object(obj, node.false_branch)"
   ]
  },
  {
   "cell_type": "code",
   "execution_count": 30,
   "metadata": {},
   "outputs": [],
   "source": [
    "# функция формирования предсказания по выборке на одном дереве\n",
    "\n",
    "def predict(data, tree):\n",
    "    \n",
    "    classes = []\n",
    "    for obj in data:\n",
    "        prediction = classify_object(obj, tree)\n",
    "        classes.append(prediction)\n",
    "    return classes"
   ]
  },
  {
   "cell_type": "code",
   "execution_count": 31,
   "metadata": {},
   "outputs": [],
   "source": [
    "# предсказание голосованием деревьев\n",
    "\n",
    "def tree_vote(forest, data):\n",
    "\n",
    "    # добавим предсказания всех деревьев в список\n",
    "    predictions = []\n",
    "    for tree in forest:\n",
    "        predictions.append(predict(data, tree))\n",
    "#     print(predictions)\n",
    "\n",
    "    # сформируем список с предсказаниями для каждого объекта\n",
    "    predictions_per_object = list(zip(*predictions))\n",
    "#     print(predictions_per_object)\n",
    "\n",
    "    # выберем в качестве итогового предсказания для каждого объекта то,\n",
    "    # за которое проголосовало большинство деревьев\n",
    "    voted_predictions = []\n",
    "    for obj in predictions_per_object:\n",
    "        voted_predictions.append(max(set(obj), key=obj.count))\n",
    "        \n",
    "    return voted_predictions"
   ]
  },
  {
   "cell_type": "code",
   "execution_count": 33,
   "metadata": {},
   "outputs": [],
   "source": [
    "# Разобьем выборку на обучающую и тестовую\n",
    "\n",
    "from sklearn.model_selection import train_test_split\n",
    "\n",
    "train_data, test_data, train_labels, test_labels = train_test_split(classification_data, \n",
    "                                                                    classification_labels, \n",
    "                                                                    test_size=0.3,\n",
    "                                                                    random_state=1)"
   ]
  },
  {
   "cell_type": "code",
   "execution_count": 34,
   "metadata": {},
   "outputs": [],
   "source": [
    "# Введем функцию подсчета точности как доли правильных ответов\n",
    "\n",
    "def accuracy_metric(actual, predicted):\n",
    "    correct = 0\n",
    "    for i in range(len(actual)):\n",
    "        if actual[i] == predicted[i]:\n",
    "            correct += 1\n",
    "    return correct / float(len(actual)) * 100.0"
   ]
  },
  {
   "cell_type": "code",
   "execution_count": null,
   "metadata": {},
   "outputs": [],
   "source": []
  },
  {
   "cell_type": "code",
   "execution_count": 35,
   "metadata": {},
   "outputs": [
    {
     "name": "stdout",
     "output_type": "stream",
     "text": [
      "Wall time: 11 ms\n"
     ]
    }
   ],
   "source": [
    "%%time\n",
    "n_trees = 1\n",
    "my_forest_1 = random_forest(train_data, train_labels, n_trees)"
   ]
  },
  {
   "cell_type": "code",
   "execution_count": 36,
   "metadata": {},
   "outputs": [],
   "source": [
    "# Получим ответы для обучающей выборки \n",
    "train_answers = tree_vote(my_forest_1, train_data)"
   ]
  },
  {
   "cell_type": "code",
   "execution_count": 37,
   "metadata": {},
   "outputs": [],
   "source": [
    "# И получим ответы для тестовой выборки\n",
    "test_answers = tree_vote(my_forest_1, test_data)"
   ]
  },
  {
   "cell_type": "code",
   "execution_count": 38,
   "metadata": {},
   "outputs": [
    {
     "name": "stdout",
     "output_type": "stream",
     "text": [
      "Точность случайного леса из 1 деревьев на обучающей выборке: 88.571\n",
      "Точность случайного леса из 1 деревьев на тестовой выборке: 63.333\n"
     ]
    }
   ],
   "source": [
    "# Точность на обучающей выборке\n",
    "train_accuracy = accuracy_metric(train_labels, train_answers)\n",
    "print(f'Точность случайного леса из {n_trees} деревьев на обучающей выборке: {train_accuracy:.3f}')\n",
    "\n",
    "# Точность на тестовой выборке\n",
    "test_accuracy = accuracy_metric(test_labels, test_answers)\n",
    "print(f'Точность случайного леса из {n_trees} деревьев на тестовой выборке: {test_accuracy:.3f}')"
   ]
  },
  {
   "cell_type": "code",
   "execution_count": 113,
   "metadata": {},
   "outputs": [
    {
     "name": "stdout",
     "output_type": "stream",
     "text": [
      "Wall time: 24 ms\n"
     ]
    }
   ],
   "source": [
    "%%time\n",
    "n_trees = 3\n",
    "my_forest_3 = random_forest(train_data, train_labels, n_trees)"
   ]
  },
  {
   "cell_type": "code",
   "execution_count": 114,
   "metadata": {},
   "outputs": [],
   "source": [
    "# Получим ответы для обучающей выборки \n",
    "train_answers = tree_vote(my_forest_3, train_data)"
   ]
  },
  {
   "cell_type": "code",
   "execution_count": 115,
   "metadata": {},
   "outputs": [],
   "source": [
    "# И получим ответы для тестовой выборки\n",
    "test_answers = tree_vote(my_forest_3, test_data)"
   ]
  },
  {
   "cell_type": "code",
   "execution_count": 116,
   "metadata": {},
   "outputs": [
    {
     "name": "stdout",
     "output_type": "stream",
     "text": [
      "Точность случайного леса из 3 деревьев на обучающей выборке: 98.571\n",
      "Точность случайного леса из 3 деревьев на тестовой выборке: 80.000\n"
     ]
    }
   ],
   "source": [
    "# Точность на обучающей выборке\n",
    "train_accuracy = accuracy_metric(train_labels, train_answers)\n",
    "print(f'Точность случайного леса из {n_trees} деревьев на обучающей выборке: {train_accuracy:.3f}')\n",
    "\n",
    "# Точность на тестовой выборке\n",
    "test_accuracy = accuracy_metric(test_labels, test_answers)\n",
    "print(f'Точность случайного леса из {n_trees} деревьев на тестовой выборке: {test_accuracy:.3f}')"
   ]
  },
  {
   "cell_type": "code",
   "execution_count": null,
   "metadata": {},
   "outputs": [],
   "source": []
  },
  {
   "cell_type": "code",
   "execution_count": 120,
   "metadata": {},
   "outputs": [
    {
     "name": "stdout",
     "output_type": "stream",
     "text": [
      "Wall time: 71.9 ms\n"
     ]
    }
   ],
   "source": [
    "%%time\n",
    "n_trees = 10\n",
    "my_forest_10 = random_forest(train_data, train_labels, n_trees)"
   ]
  },
  {
   "cell_type": "code",
   "execution_count": 121,
   "metadata": {},
   "outputs": [],
   "source": [
    "# Получим ответы для обучающей выборки \n",
    "train_answers = tree_vote(my_forest_10, train_data)"
   ]
  },
  {
   "cell_type": "code",
   "execution_count": 122,
   "metadata": {},
   "outputs": [],
   "source": [
    "# И получим ответы для тестовой выборки\n",
    "test_answers = tree_vote(my_forest_10, test_data)"
   ]
  },
  {
   "cell_type": "code",
   "execution_count": 123,
   "metadata": {},
   "outputs": [
    {
     "name": "stdout",
     "output_type": "stream",
     "text": [
      "Точность случайного леса из 10 деревьев на обучающей выборке: 98.571\n",
      "Точность случайного леса из 10 деревьев на тестовой выборке: 76.667\n"
     ]
    }
   ],
   "source": [
    "# Точность на обучающей выборке\n",
    "train_accuracy = accuracy_metric(train_labels, train_answers)\n",
    "print(f'Точность случайного леса из {n_trees} деревьев на обучающей выборке: {train_accuracy:.3f}')\n",
    "\n",
    "# Точность на тестовой выборке\n",
    "test_accuracy = accuracy_metric(test_labels, test_answers)\n",
    "print(f'Точность случайного леса из {n_trees} деревьев на тестовой выборке: {test_accuracy:.3f}')"
   ]
  },
  {
   "cell_type": "code",
   "execution_count": null,
   "metadata": {},
   "outputs": [],
   "source": []
  },
  {
   "cell_type": "code",
   "execution_count": 47,
   "metadata": {},
   "outputs": [
    {
     "name": "stdout",
     "output_type": "stream",
     "text": [
      "Wall time: 293 ms\n"
     ]
    }
   ],
   "source": [
    "%%time\n",
    "n_trees = 50\n",
    "my_forest_50 = random_forest(train_data, train_labels, n_trees)"
   ]
  },
  {
   "cell_type": "code",
   "execution_count": 48,
   "metadata": {},
   "outputs": [],
   "source": [
    "# Получим ответы для обучающей выборки \n",
    "train_answers = tree_vote(my_forest_50, train_data)"
   ]
  },
  {
   "cell_type": "code",
   "execution_count": 49,
   "metadata": {},
   "outputs": [],
   "source": [
    "# И получим ответы для тестовой выборки\n",
    "test_answers = tree_vote(my_forest_50, test_data)"
   ]
  },
  {
   "cell_type": "code",
   "execution_count": 50,
   "metadata": {},
   "outputs": [
    {
     "name": "stdout",
     "output_type": "stream",
     "text": [
      "Точность случайного леса из 50 деревьев на обучающей выборке: 100.000\n",
      "Точность случайного леса из 50 деревьев на тестовой выборке: 76.667\n"
     ]
    }
   ],
   "source": [
    "# Точность на обучающей выборке\n",
    "train_accuracy = accuracy_metric(train_labels, train_answers)\n",
    "print(f'Точность случайного леса из {n_trees} деревьев на обучающей выборке: {train_accuracy:.3f}')\n",
    "\n",
    "# Точность на тестовой выборке\n",
    "test_accuracy = accuracy_metric(test_labels, test_answers)\n",
    "print(f'Точность случайного леса из {n_trees} деревьев на тестовой выборке: {test_accuracy:.3f}')"
   ]
  },
  {
   "cell_type": "code",
   "execution_count": null,
   "metadata": {},
   "outputs": [],
   "source": []
  },
  {
   "cell_type": "code",
   "execution_count": 110,
   "metadata": {},
   "outputs": [],
   "source": [
    "# Визуализируем дерево на графике\n",
    "\n",
    "def get_meshgrid(data, step=.05, border=1.2):\n",
    "    x_min, x_max = data[:, 0].min() - border, data[:, 0].max() + border\n",
    "    y_min, y_max = data[:, 1].min() - border, data[:, 1].max() + border\n",
    "    return np.meshgrid(np.arange(x_min, x_max, step), np.arange(y_min, y_max, step))\n",
    "\n",
    "   \n",
    "def visualize(train_data, test_data):\n",
    "    plt.figure(figsize = (16, 7))\n",
    "\n",
    "    # график обучающей выборки\n",
    "    plt.subplot(1,2,1)\n",
    "    xx, yy = get_meshgrid(train_data)\n",
    "    mesh_predictions = np.array(tree_vote(my_forest_50, np.c_[xx.ravel(), yy.ravel()])).reshape(xx.shape)\n",
    "    plt.pcolormesh(xx, yy, mesh_predictions, cmap = light_colors)\n",
    "    plt.scatter(train_data[:, 0], train_data[:, 1], c = train_labels, cmap = colors)\n",
    "    plt.title(f'Train accuracy={train_accuracy:.2f}')\n",
    "\n",
    "    # график тестовой выборки\n",
    "    plt.subplot(1,2,2)\n",
    "    plt.pcolormesh(xx, yy, mesh_predictions, cmap = light_colors)\n",
    "    plt.scatter(test_data[:, 0], test_data[:, 1], c = test_labels, cmap = colors)\n",
    "    plt.title(f'Test accuracy={test_accuracy:.2f}')"
   ]
  },
  {
   "cell_type": "code",
   "execution_count": 112,
   "metadata": {},
   "outputs": [
    {
     "name": "stdout",
     "output_type": "stream",
     "text": [
      "my_forest_50\n"
     ]
    },
    {
     "name": "stderr",
     "output_type": "stream",
     "text": [
      "<ipython-input-110-4c6faa842468>:16: MatplotlibDeprecationWarning: shading='flat' when X and Y have the same dimensions as C is deprecated since 3.3.  Either specify the corners of the quadrilaterals with X and Y, or pass shading='auto', 'nearest' or 'gouraud', or set rcParams['pcolor.shading'].  This will become an error two minor releases later.\n",
      "  plt.pcolormesh(xx, yy, mesh_predictions, cmap = light_colors)\n",
      "<ipython-input-110-4c6faa842468>:22: MatplotlibDeprecationWarning: shading='flat' when X and Y have the same dimensions as C is deprecated since 3.3.  Either specify the corners of the quadrilaterals with X and Y, or pass shading='auto', 'nearest' or 'gouraud', or set rcParams['pcolor.shading'].  This will become an error two minor releases later.\n",
      "  plt.pcolormesh(xx, yy, mesh_predictions, cmap = light_colors)\n"
     ]
    },
    {
     "data": {
      "image/png": "[encoded data removed]",
      "text/plain": [
       "<Figure size 1152x504 with 2 Axes>"
      ]
     },
     "metadata": {
      "needs_background": "light"
     },
     "output_type": "display_data"
    }
   ],
   "source": [
    "print('my_forest_50')\n",
    "visualize(train_data, test_data)"
   ]
  },
  {
   "cell_type": "code",
   "execution_count": 117,
   "metadata": {},
   "outputs": [],
   "source": [
    "def visualize_3(train_data, test_data):\n",
    "    plt.figure(figsize = (16, 7))\n",
    "\n",
    "    # график обучающей выборки\n",
    "    plt.subplot(1,2,1)\n",
    "    xx, yy = get_meshgrid(train_data)\n",
    "    mesh_predictions = np.array(tree_vote(my_forest_3, np.c_[xx.ravel(), yy.ravel()])).reshape(xx.shape)\n",
    "    plt.pcolormesh(xx, yy, mesh_predictions, cmap = light_colors)\n",
    "    plt.scatter(train_data[:, 0], train_data[:, 1], c = train_labels, cmap = colors)\n",
    "    plt.title(f'Train accuracy={train_accuracy:.2f}')\n",
    "\n",
    "    # график тестовой выборки\n",
    "    plt.subplot(1,2,2)\n",
    "    plt.pcolormesh(xx, yy, mesh_predictions, cmap = light_colors)\n",
    "    plt.scatter(test_data[:, 0], test_data[:, 1], c = test_labels, cmap = colors)\n",
    "    plt.title(f'Test accuracy={test_accuracy:.2f}')"
   ]
  },
  {
   "cell_type": "code",
   "execution_count": 118,
   "metadata": {},
   "outputs": [
    {
     "name": "stdout",
     "output_type": "stream",
     "text": [
      "my_forest_3\n"
     ]
    },
    {
     "name": "stderr",
     "output_type": "stream",
     "text": [
      "<ipython-input-117-576bd9dfe032>:8: MatplotlibDeprecationWarning: shading='flat' when X and Y have the same dimensions as C is deprecated since 3.3.  Either specify the corners of the quadrilaterals with X and Y, or pass shading='auto', 'nearest' or 'gouraud', or set rcParams['pcolor.shading'].  This will become an error two minor releases later.\n",
      "  plt.pcolormesh(xx, yy, mesh_predictions, cmap = light_colors)\n",
      "<ipython-input-117-576bd9dfe032>:14: MatplotlibDeprecationWarning: shading='flat' when X and Y have the same dimensions as C is deprecated since 3.3.  Either specify the corners of the quadrilaterals with X and Y, or pass shading='auto', 'nearest' or 'gouraud', or set rcParams['pcolor.shading'].  This will become an error two minor releases later.\n",
      "  plt.pcolormesh(xx, yy, mesh_predictions, cmap = light_colors)\n"
     ]
    },
    {
     "data": {
      "image/png": "[encoded data removed]",
      "text/plain": [
       "<Figure size 1152x504 with 2 Axes>"
      ]
     },
     "metadata": {
      "needs_background": "light"
     },
     "output_type": "display_data"
    }
   ],
   "source": [
    "print('my_forest_3')\n",
    "visualize_3(train_data, test_data)"
   ]
  },
  {
   "cell_type": "code",
   "execution_count": 119,
   "metadata": {},
   "outputs": [],
   "source": [
    "def visualize_10(train_data, test_data):\n",
    "    plt.figure(figsize = (16, 7))\n",
    "\n",
    "    # график обучающей выборки\n",
    "    plt.subplot(1,2,1)\n",
    "    xx, yy = get_meshgrid(train_data)\n",
    "    mesh_predictions = np.array(tree_vote(my_forest_3, np.c_[xx.ravel(), yy.ravel()])).reshape(xx.shape)\n",
    "    plt.pcolormesh(xx, yy, mesh_predictions, cmap = light_colors)\n",
    "    plt.scatter(train_data[:, 0], train_data[:, 1], c = train_labels, cmap = colors)\n",
    "    plt.title(f'Train accuracy={train_accuracy:.2f}')\n",
    "\n",
    "    # график тестовой выборки\n",
    "    plt.subplot(1,2,2)\n",
    "    plt.pcolormesh(xx, yy, mesh_predictions, cmap = light_colors)\n",
    "    plt.scatter(test_data[:, 0], test_data[:, 1], c = test_labels, cmap = colors)\n",
    "    plt.title(f'Test accuracy={test_accuracy:.2f}')"
   ]
  },
  {
   "cell_type": "code",
   "execution_count": 125,
   "metadata": {},
   "outputs": [
    {
     "name": "stdout",
     "output_type": "stream",
     "text": [
      "my_forest_10\n"
     ]
    },
    {
     "name": "stderr",
     "output_type": "stream",
     "text": [
      "<ipython-input-119-a35f01ecc84d>:8: MatplotlibDeprecationWarning: shading='flat' when X and Y have the same dimensions as C is deprecated since 3.3.  Either specify the corners of the quadrilaterals with X and Y, or pass shading='auto', 'nearest' or 'gouraud', or set rcParams['pcolor.shading'].  This will become an error two minor releases later.\n",
      "  plt.pcolormesh(xx, yy, mesh_predictions, cmap = light_colors)\n",
      "<ipython-input-119-a35f01ecc84d>:14: MatplotlibDeprecationWarning: shading='flat' when X and Y have the same dimensions as C is deprecated since 3.3.  Either specify the corners of the quadrilaterals with X and Y, or pass shading='auto', 'nearest' or 'gouraud', or set rcParams['pcolor.shading'].  This will become an error two minor releases later.\n",
      "  plt.pcolormesh(xx, yy, mesh_predictions, cmap = light_colors)\n"
     ]
    },
    {
     "data": {
      "image/png": "[encoded data removed]",
      "text/plain": [
       "<Figure size 1152x504 with 2 Axes>"
      ]
     },
     "metadata": {
      "needs_background": "light"
     },
     "output_type": "display_data"
    }
   ],
   "source": [
    "print('my_forest_10')\n",
    "visualize_10(train_data, test_data)"
   ]
  },
  {
   "cell_type": "code",
   "execution_count": null,
   "metadata": {},
   "outputs": [],
   "source": []
  },
  {
   "cell_type": "markdown",
   "metadata": {},
   "source": [
    "**Сделать выводы о получаемой сложности гиперплоскости и недообучении или переобучении случайного леса в зависимости от количества деревьев в нем.**"
   ]
  },
  {
   "cell_type": "markdown",
   "metadata": {},
   "source": [
    "Для 3 и 10 почти идентично, для 50 уже видно переобучение"
   ]
  },
  {
   "cell_type": "code",
   "execution_count": null,
   "metadata": {},
   "outputs": [],
   "source": []
  }
 ],
 "metadata": {
  "kernelspec": {
   "display_name": "Python 3",
   "language": "python",
   "name": "python3"
  },
  "language_info": {
   "codemirror_mode": {
    "name": "ipython",
    "version": 3
   },
   "file_extension": ".py",
   "mimetype": "text/x-python",
   "name": "python",
   "nbconvert_exporter": "python",
   "pygments_lexer": "ipython3",
   "version": "3.8.5"
  }
 },
 "nbformat": 4,
 "nbformat_minor": 4
}
