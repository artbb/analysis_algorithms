{
 "cells": [
  {
   "cell_type": "markdown",
   "metadata": {},
   "source": [
    "## Курсовой проект для курса \"Алгоритмы анализа данных\"\n",
    "\n",
    "**Задание:** предсказать средний балл на экзамене по математике, который получают ученики репетиторов из датасета test.csv. Даны два датасета: train.csv (содержит признаки и целевую переменную) и test.csv (только признаки).\n",
    "\n",
    "**Целевая переменная:** mean_exam_points - целевое значение, средний балл за экзамен учеников\n",
    "\n",
    "**Метрика качества:** R2 - коэффициент детерминации"
   ]
  },
  {
   "cell_type": "markdown",
   "metadata": {},
   "source": [
    "**Описание датасета:**\n",
    "<ul>\n",
    "    <li>Id - айди</li>\n",
    "    <li>age - возраст преподавателя</li>\n",
    "    <li>years_of_experience - стаж преподавателя</li>\n",
    "    <li>qualification - квалификация преподавателя</li>\n",
    "    <li>physics - преподает ли физику</li>\n",
    "    <li>chemistry - преподает ли химию</li>\n",
    "    <li>biology - преподает ли биологию</li>\n",
    "    <li>english - преподает ли английский</li>\n",
    "    <li>geography - преподает ли географию</li>\n",
    "    <li>history - преподает ли историю</li>\n",
    "    <li>mean_exam_points - целевое значение, средний балл за экзамен учеников</li>\n",
    "    </ul>"
   ]
  },
  {
   "cell_type": "markdown",
   "metadata": {},
   "source": [
    "## Содержание\n",
    "* [Подготовка датасет, оптимизация](#prep)\n",
    "* [1. Распределение целевой переменной](#target)\n",
    "* [2. Анализ признаков и корректировка данных](#features)\n",
    "    * [2.1 Количественные признаки](#num_features)\n",
    "    * [2.2 Категориальные/бинарные признаки](#cat_features)\n",
    "    * [2.3 Матрица корреляций](#corr)\n",
    "* [3. Анализ зависимости таргета от фичей](#target_features)\n",
    "    * [3.1 Количественные признаки](#num_features_target)\n",
    "    * [3.2 Категориальные / бинарные признаки](#cat_bin_features)\n",
    "* [4. Моделирование](#model)\n",
    "    * [4.1 Отбор факторов](#model_factor)\n",
    "    * [4.2 Стандартизация](#model_standart)    \n",
    "    * [4.3 Разбиение на train/test](#model_devide)\n",
    "    * [4.4 Линейная регрессия](#model_lr)\n",
    "    * [4.5 Дерево решений](#model_tree)\n",
    "    * [4.6 Градиентный бустинг (XGBoost)](#model_gradbust)\n",
    "    * [4.7 Выбор лучшей модели](#choose)\n",
    "* [5. Прогнозирование](#estimate)\n",
    "    * [5.1 Обработка данных](#est_ev)\n",
    "    * [5.2 Применение модели и сохранение](#est_save)"
   ]
  },
  {
   "cell_type": "code",
   "execution_count": 1,
   "metadata": {},
   "outputs": [],
   "source": [
    "import numpy as np\n",
    "import pandas as pd\n",
    "from sklearn.model_selection import train_test_split\n",
    "import matplotlib.pyplot as plt\n",
    "import seaborn as sns"
   ]
  },
  {
   "cell_type": "markdown",
   "metadata": {},
   "source": [
    "# Подготовка dataset, оптимизация<a class='anchor' id='prep'>"
   ]
  },
  {
   "cell_type": "code",
   "execution_count": 2,
   "metadata": {},
   "outputs": [],
   "source": [
    "#Пути к директориям\n",
    "DATASET_PATH = 'train.csv'\n",
    "PREPARED_DATASET_PATH = 'train_prepared.csv'"
   ]
  },
  {
   "cell_type": "code",
   "execution_count": 3,
   "metadata": {},
   "outputs": [],
   "source": [
    "test = pd.read_csv('test.csv')"
   ]
  },
  {
   "cell_type": "code",
   "execution_count": 4,
   "metadata": {},
   "outputs": [
    {
     "data": {
      "text/html": [
       "<div>\n",
       "<style scoped>\n",
       "    .dataframe tbody tr th:only-of-type {\n",
       "        vertical-align: middle;\n",
       "    }\n",
       "\n",
       "    .dataframe tbody tr th {\n",
       "        vertical-align: top;\n",
       "    }\n",
       "\n",
       "    .dataframe thead th {\n",
       "        text-align: right;\n",
       "    }\n",
       "</style>\n",
       "<table border=\"1\" class=\"dataframe\">\n",
       "  <thead>\n",
       "    <tr style=\"text-align: right;\">\n",
       "      <th></th>\n",
       "      <th>Id</th>\n",
       "      <th>age</th>\n",
       "      <th>years_of_experience</th>\n",
       "      <th>lesson_price</th>\n",
       "      <th>qualification</th>\n",
       "      <th>physics</th>\n",
       "      <th>chemistry</th>\n",
       "      <th>biology</th>\n",
       "      <th>english</th>\n",
       "      <th>geography</th>\n",
       "      <th>history</th>\n",
       "      <th>mean_exam_points</th>\n",
       "    </tr>\n",
       "  </thead>\n",
       "  <tbody>\n",
       "    <tr>\n",
       "      <th>0</th>\n",
       "      <td>0</td>\n",
       "      <td>40.0</td>\n",
       "      <td>0.0</td>\n",
       "      <td>1400.0</td>\n",
       "      <td>1.0</td>\n",
       "      <td>1.0</td>\n",
       "      <td>0.0</td>\n",
       "      <td>0.0</td>\n",
       "      <td>0.0</td>\n",
       "      <td>1.0</td>\n",
       "      <td>0.0</td>\n",
       "      <td>61</td>\n",
       "    </tr>\n",
       "    <tr>\n",
       "      <th>1</th>\n",
       "      <td>1</td>\n",
       "      <td>48.0</td>\n",
       "      <td>4.0</td>\n",
       "      <td>2850.0</td>\n",
       "      <td>3.0</td>\n",
       "      <td>1.0</td>\n",
       "      <td>0.0</td>\n",
       "      <td>0.0</td>\n",
       "      <td>0.0</td>\n",
       "      <td>0.0</td>\n",
       "      <td>0.0</td>\n",
       "      <td>76</td>\n",
       "    </tr>\n",
       "    <tr>\n",
       "      <th>2</th>\n",
       "      <td>2</td>\n",
       "      <td>39.0</td>\n",
       "      <td>0.0</td>\n",
       "      <td>1200.0</td>\n",
       "      <td>1.0</td>\n",
       "      <td>0.0</td>\n",
       "      <td>0.0</td>\n",
       "      <td>0.0</td>\n",
       "      <td>0.0</td>\n",
       "      <td>0.0</td>\n",
       "      <td>0.0</td>\n",
       "      <td>53</td>\n",
       "    </tr>\n",
       "    <tr>\n",
       "      <th>3</th>\n",
       "      <td>3</td>\n",
       "      <td>46.0</td>\n",
       "      <td>5.0</td>\n",
       "      <td>1400.0</td>\n",
       "      <td>1.0</td>\n",
       "      <td>0.0</td>\n",
       "      <td>0.0</td>\n",
       "      <td>0.0</td>\n",
       "      <td>0.0</td>\n",
       "      <td>0.0</td>\n",
       "      <td>0.0</td>\n",
       "      <td>54</td>\n",
       "    </tr>\n",
       "    <tr>\n",
       "      <th>4</th>\n",
       "      <td>4</td>\n",
       "      <td>43.0</td>\n",
       "      <td>1.0</td>\n",
       "      <td>1500.0</td>\n",
       "      <td>1.0</td>\n",
       "      <td>0.0</td>\n",
       "      <td>0.0</td>\n",
       "      <td>0.0</td>\n",
       "      <td>0.0</td>\n",
       "      <td>0.0</td>\n",
       "      <td>0.0</td>\n",
       "      <td>57</td>\n",
       "    </tr>\n",
       "  </tbody>\n",
       "</table>\n",
       "</div>"
      ],
      "text/plain": [
       "   Id   age  years_of_experience  lesson_price  qualification  physics  \\\n",
       "0   0  40.0                  0.0        1400.0            1.0      1.0   \n",
       "1   1  48.0                  4.0        2850.0            3.0      1.0   \n",
       "2   2  39.0                  0.0        1200.0            1.0      0.0   \n",
       "3   3  46.0                  5.0        1400.0            1.0      0.0   \n",
       "4   4  43.0                  1.0        1500.0            1.0      0.0   \n",
       "\n",
       "   chemistry  biology  english  geography  history  mean_exam_points  \n",
       "0        0.0      0.0      0.0        1.0      0.0                61  \n",
       "1        0.0      0.0      0.0        0.0      0.0                76  \n",
       "2        0.0      0.0      0.0        0.0      0.0                53  \n",
       "3        0.0      0.0      0.0        0.0      0.0                54  \n",
       "4        0.0      0.0      0.0        0.0      0.0                57  "
      ]
     },
     "execution_count": 4,
     "metadata": {},
     "output_type": "execute_result"
    }
   ],
   "source": [
    "#Данные\n",
    "data_row = pd.read_csv(DATASET_PATH, sep=',')\n",
    "data_row.head()"
   ]
  },
  {
   "cell_type": "code",
   "execution_count": 5,
   "metadata": {},
   "outputs": [],
   "source": [
    "#оптимизация памяти\n",
    "def reduce_mem_usage(data_row):\n",
    "    \"\"\" iterate through all the columns of a dataframe and modify the data type\n",
    "        to reduce memory usage.        \n",
    "    \"\"\"\n",
    "    start_mem = data_row.memory_usage().sum() / 1024**2\n",
    "    print('Memory usage of dataframe is: {:.2f} MB'.format(start_mem))\n",
    "    \n",
    "    for col in data_row.columns:\n",
    "        col_type = data_row[col].dtype\n",
    "        \n",
    "        if col_type != object:\n",
    "            c_min = data_row[col].min()\n",
    "            c_max = data_row[col].max()\n",
    "            if str(col_type)[:3] == 'int':\n",
    "                if c_min > np.iinfo(np.int8).min and c_max < np.iinfo(np.int8).max:\n",
    "                    data_row[col] = data_row[col].astype(np.int8)\n",
    "                elif c_min > np.iinfo(np.int16).min and c_max < np.iinfo(np.int16).max:\n",
    "                    data_row[col] = data_row[col].astype(np.int16)\n",
    "                elif c_min > np.iinfo(np.int32).min and c_max < np.iinfo(np.int32).max:\n",
    "                    data_row[col] = data_row[col].astype(np.int32)\n",
    "                elif c_min > np.iinfo(np.int64).min and c_max < np.iinfo(np.int64).max:\n",
    "                    data_row[col] = data_row[col].astype(np.int64)  \n",
    "            else:\n",
    "                if c_min > np.finfo(np.float32).min and c_max < np.finfo(np.float32).max:\n",
    "                    data_row[col] = data_row[col].astype(np.float32)\n",
    "                else:\n",
    "                    data_row[col] = data_row[col].astype(np.float64)\n",
    "        else:\n",
    "            data_row[col] = data_row[col].astype('category')\n",
    "\n",
    "    end_mem = data_row.memory_usage().sum() / 1024**2\n",
    "    print('Memory usage after optimization is: {:.2f} MB'.format(end_mem))\n",
    "    print('Decreased by {:.1f}%'.format(100 * (start_mem - end_mem) / start_mem))\n",
    "    \n",
    "    return data_row"
   ]
  },
  {
   "cell_type": "code",
   "execution_count": 6,
   "metadata": {
    "scrolled": true
   },
   "outputs": [
    {
     "data": {
      "text/plain": [
       "Id                       int64\n",
       "age                    float64\n",
       "years_of_experience    float64\n",
       "lesson_price           float64\n",
       "qualification          float64\n",
       "physics                float64\n",
       "chemistry              float64\n",
       "biology                float64\n",
       "english                float64\n",
       "geography              float64\n",
       "history                float64\n",
       "mean_exam_points         int64\n",
       "dtype: object"
      ]
     },
     "execution_count": 6,
     "metadata": {},
     "output_type": "execute_result"
    }
   ],
   "source": [
    "data_row.dtypes"
   ]
  },
  {
   "cell_type": "code",
   "execution_count": 7,
   "metadata": {},
   "outputs": [
    {
     "name": "stdout",
     "output_type": "stream",
     "text": [
      "Memory usage of dataframe is: 0.92 MB\n",
      "Memory usage after optimization is: 0.41 MB\n",
      "Decreased by 55.2%\n"
     ]
    }
   ],
   "source": [
    "data_row = reduce_mem_usage(data_row)"
   ]
  },
  {
   "cell_type": "code",
   "execution_count": 8,
   "metadata": {},
   "outputs": [],
   "source": [
    "#функция стандартизации\n",
    "def standard_scale(x):\n",
    "    res = (x - x.mean(axis=0)) / x.std(axis=0)\n",
    "    return res"
   ]
  },
  {
   "cell_type": "code",
   "execution_count": 9,
   "metadata": {},
   "outputs": [],
   "source": [
    "#запись результатов моделей\n",
    "results_all = {}"
   ]
  },
  {
   "cell_type": "markdown",
   "metadata": {},
   "source": [
    "# 1. Распределение целевой переменной<a class='anchor' id='target'>"
   ]
  },
  {
   "cell_type": "code",
   "execution_count": 10,
   "metadata": {},
   "outputs": [
    {
     "name": "stdout",
     "output_type": "stream",
     "text": [
      "МИН 32\n",
      "МАКС 100\n",
      "МЕДИАНА 63.0\n",
      "Мода 63\n",
      "Пропуски 0\n"
     ]
    }
   ],
   "source": [
    "#данные медианы, моды, среднего по среднему баллу учеников\n",
    "data_median = data_row['mean_exam_points'].median()\n",
    "data_mode = data_row['mean_exam_points'].mode()[0]\n",
    "data_mean = round(data_row['mean_exam_points'].mean(), 2)\n",
    "data_row['mean_exam_points'].isnull().astype(np.int).sum()\n",
    "print('МИН', data_row['mean_exam_points'].min())\n",
    "print('МАКС', data_row['mean_exam_points'].max())\n",
    "print('МЕДИАНА', data_row['mean_exam_points'].median())\n",
    "print('Мода', data_row['mean_exam_points'].mode()[0])\n",
    "print('Пропуски', data_row['mean_exam_points'].isnull().astype(np.int).sum())"
   ]
  },
  {
   "cell_type": "code",
   "execution_count": 11,
   "metadata": {},
   "outputs": [
    {
     "data": {
      "image/png": "[encoded data removed]",
      "text/plain": [
       "<Figure size 302.4x216 with 1 Axes>"
      ]
     },
     "metadata": {},
     "output_type": "display_data"
    }
   ],
   "source": [
    "#график распределения баллов\n",
    "sns.set(font_scale=0.8, style='white')\n",
    "sns.displot(data_row['mean_exam_points'], kde=True, color='grey', alpha = 0.35, lw=0, height=3, aspect=1.4)\n",
    "y = np.linspace(0, 500, 10)\n",
    "plt.plot([data_mean] * 10, y, label='среднее',  linewidth=2, linestyle='--')\n",
    "plt.plot([data_median] * 10, y, label='медиана',  linewidth=2, linestyle='--')\n",
    "plt.plot([data_mode] * 10, y, label='мода',  linewidth=2, linestyle='--')\n",
    "plt.title('График распределения баллов', fontsize=10)\n",
    "plt.xlabel('баллы', fontsize=8)\n",
    "plt.ylabel('Кол-во значений', fontsize=8)\n",
    "plt.legend(fontsize=8)\n",
    "plt.show()"
   ]
  },
  {
   "cell_type": "markdown",
   "metadata": {},
   "source": [
    "В целом распределение баллов близко к логнормальному, заметный выброс есть в левом хвосте, в центре заметный провал и выброс. Медиана, мода, среднее - близки. Пропусков в значениях баллов нет."
   ]
  },
  {
   "cell_type": "markdown",
   "metadata": {},
   "source": [
    "# 2. Анализ признаков и корректировка данных<a class='anchor' id='features'>"
   ]
  },
  {
   "cell_type": "markdown",
   "metadata": {},
   "source": [
    "### 2.1 Количественные признаки<a class='anchor' id='num_features'>"
   ]
  },
  {
   "cell_type": "code",
   "execution_count": 12,
   "metadata": {},
   "outputs": [
    {
     "data": {
      "text/html": [
       "<div>\n",
       "<style scoped>\n",
       "    .dataframe tbody tr th:only-of-type {\n",
       "        vertical-align: middle;\n",
       "    }\n",
       "\n",
       "    .dataframe tbody tr th {\n",
       "        vertical-align: top;\n",
       "    }\n",
       "\n",
       "    .dataframe thead th {\n",
       "        text-align: right;\n",
       "    }\n",
       "</style>\n",
       "<table border=\"1\" class=\"dataframe\">\n",
       "  <thead>\n",
       "    <tr style=\"text-align: right;\">\n",
       "      <th></th>\n",
       "      <th>age</th>\n",
       "      <th>years_of_experience</th>\n",
       "      <th>lesson_price</th>\n",
       "      <th>qualification</th>\n",
       "    </tr>\n",
       "  </thead>\n",
       "  <tbody>\n",
       "    <tr>\n",
       "      <th>0</th>\n",
       "      <td>40.0</td>\n",
       "      <td>0.0</td>\n",
       "      <td>1400.0</td>\n",
       "      <td>1.0</td>\n",
       "    </tr>\n",
       "    <tr>\n",
       "      <th>1</th>\n",
       "      <td>48.0</td>\n",
       "      <td>4.0</td>\n",
       "      <td>2850.0</td>\n",
       "      <td>3.0</td>\n",
       "    </tr>\n",
       "    <tr>\n",
       "      <th>2</th>\n",
       "      <td>39.0</td>\n",
       "      <td>0.0</td>\n",
       "      <td>1200.0</td>\n",
       "      <td>1.0</td>\n",
       "    </tr>\n",
       "    <tr>\n",
       "      <th>3</th>\n",
       "      <td>46.0</td>\n",
       "      <td>5.0</td>\n",
       "      <td>1400.0</td>\n",
       "      <td>1.0</td>\n",
       "    </tr>\n",
       "    <tr>\n",
       "      <th>4</th>\n",
       "      <td>43.0</td>\n",
       "      <td>1.0</td>\n",
       "      <td>1500.0</td>\n",
       "      <td>1.0</td>\n",
       "    </tr>\n",
       "    <tr>\n",
       "      <th>...</th>\n",
       "      <td>...</td>\n",
       "      <td>...</td>\n",
       "      <td>...</td>\n",
       "      <td>...</td>\n",
       "    </tr>\n",
       "    <tr>\n",
       "      <th>9995</th>\n",
       "      <td>44.0</td>\n",
       "      <td>0.0</td>\n",
       "      <td>1700.0</td>\n",
       "      <td>2.0</td>\n",
       "    </tr>\n",
       "    <tr>\n",
       "      <th>9996</th>\n",
       "      <td>51.0</td>\n",
       "      <td>0.0</td>\n",
       "      <td>1700.0</td>\n",
       "      <td>2.0</td>\n",
       "    </tr>\n",
       "    <tr>\n",
       "      <th>9997</th>\n",
       "      <td>34.0</td>\n",
       "      <td>1.0</td>\n",
       "      <td>1250.0</td>\n",
       "      <td>1.0</td>\n",
       "    </tr>\n",
       "    <tr>\n",
       "      <th>9998</th>\n",
       "      <td>33.0</td>\n",
       "      <td>3.0</td>\n",
       "      <td>1100.0</td>\n",
       "      <td>1.0</td>\n",
       "    </tr>\n",
       "    <tr>\n",
       "      <th>9999</th>\n",
       "      <td>35.0</td>\n",
       "      <td>0.0</td>\n",
       "      <td>1450.0</td>\n",
       "      <td>1.0</td>\n",
       "    </tr>\n",
       "  </tbody>\n",
       "</table>\n",
       "<p>10000 rows × 4 columns</p>\n",
       "</div>"
      ],
      "text/plain": [
       "       age  years_of_experience  lesson_price  qualification\n",
       "0     40.0                  0.0        1400.0            1.0\n",
       "1     48.0                  4.0        2850.0            3.0\n",
       "2     39.0                  0.0        1200.0            1.0\n",
       "3     46.0                  5.0        1400.0            1.0\n",
       "4     43.0                  1.0        1500.0            1.0\n",
       "...    ...                  ...           ...            ...\n",
       "9995  44.0                  0.0        1700.0            2.0\n",
       "9996  51.0                  0.0        1700.0            2.0\n",
       "9997  34.0                  1.0        1250.0            1.0\n",
       "9998  33.0                  3.0        1100.0            1.0\n",
       "9999  35.0                  0.0        1450.0            1.0\n",
       "\n",
       "[10000 rows x 4 columns]"
      ]
     },
     "execution_count": 12,
     "metadata": {},
     "output_type": "execute_result"
    }
   ],
   "source": [
    "data_num_features = data_row[['age', 'years_of_experience', 'lesson_price', 'qualification']]\n",
    "data_num_features"
   ]
  },
  {
   "cell_type": "code",
   "execution_count": 13,
   "metadata": {},
   "outputs": [],
   "source": [
    "mean_data_f = np.mean(data_num_features).round(1)\n",
    "min_data_f = np.min(data_num_features, axis = 0).round(1)\n",
    "max_data_f = np.max(data_num_features, axis = 0).round(1)\n",
    "null_data_f = data_num_features.isnull().astype(np.int).sum()"
   ]
  },
  {
   "cell_type": "code",
   "execution_count": 14,
   "metadata": {},
   "outputs": [
    {
     "data": {
      "text/plain": [
       "array([['age', 45.900001525878906, 23.0, 68.0, 0],\n",
       "       ['years_of_experience', 2.0, 0.0, 10.0, 0],\n",
       "       ['lesson_price', 1699.0999755859375, 200.0, 3950.0, 0],\n",
       "       ['qualification', 1.7000000476837158, 1.0, 4.0, 0]], dtype=object)"
      ]
     },
     "execution_count": 14,
     "metadata": {},
     "output_type": "execute_result"
    }
   ],
   "source": [
    "keys_data_f = mean_data_f.keys()\n",
    "np.column_stack([keys_data_f, mean_data_f, min_data_f, max_data_f, null_data_f])"
   ]
  },
  {
   "cell_type": "code",
   "execution_count": 15,
   "metadata": {},
   "outputs": [
    {
     "data": {
      "text/plain": [
       "(array([4884.,    0.,    0., 3087.,    0.,    0., 1979.,    0.,    0.,\n",
       "          50.]),\n",
       " array([1. , 1.3, 1.6, 1.9, 2.2, 2.5, 2.8, 3.1, 3.4, 3.7, 4. ],\n",
       "       dtype=float32),\n",
       " <BarContainer object of 10 artists>)"
      ]
     },
     "execution_count": 15,
     "metadata": {},
     "output_type": "execute_result"
    },
    {
     "data": {
      "image/png": "[encoded data removed]",
      "text/plain": [
       "<Figure size 432x288 with 1 Axes>"
      ]
     },
     "metadata": {},
     "output_type": "display_data"
    }
   ],
   "source": [
    "plt.hist(data_row['qualification'])"
   ]
  },
  {
   "cell_type": "code",
   "execution_count": 16,
   "metadata": {},
   "outputs": [
    {
     "data": {
      "text/plain": [
       "(array([  19.,  154., 2433., 3323., 1338., 1738.,  639.,  269.,   74.,\n",
       "          13.]),\n",
       " array([ 200.,  575.,  950., 1325., 1700., 2075., 2450., 2825., 3200.,\n",
       "        3575., 3950.], dtype=float32),\n",
       " <BarContainer object of 10 artists>)"
      ]
     },
     "execution_count": 16,
     "metadata": {},
     "output_type": "execute_result"
    },
    {
     "data": {
      "image/png": "[encoded data removed]",
      "text/plain": [
       "<Figure size 432x288 with 1 Axes>"
      ]
     },
     "metadata": {},
     "output_type": "display_data"
    }
   ],
   "source": [
    "plt.hist(data_row['lesson_price'])"
   ]
  },
  {
   "cell_type": "code",
   "execution_count": 17,
   "metadata": {},
   "outputs": [
    {
     "data": {
      "text/plain": [
       "(array([2785., 1757., 1804., 1572., 1122.,  584.,  282.,   70.,   20.,\n",
       "           4.]),\n",
       " array([ 0.,  1.,  2.,  3.,  4.,  5.,  6.,  7.,  8.,  9., 10.],\n",
       "       dtype=float32),\n",
       " <BarContainer object of 10 artists>)"
      ]
     },
     "execution_count": 17,
     "metadata": {},
     "output_type": "execute_result"
    },
    {
     "data": {
      "image/png": "[encoded data removed]",
      "text/plain": [
       "<Figure size 432x288 with 1 Axes>"
      ]
     },
     "metadata": {},
     "output_type": "display_data"
    }
   ],
   "source": [
    "plt.hist(data_row['years_of_experience'])"
   ]
  },
  {
   "cell_type": "code",
   "execution_count": 18,
   "metadata": {},
   "outputs": [
    {
     "data": {
      "text/plain": [
       "(array([ 125.,  246.,  868., 1273., 2295., 1901., 1884.,  824.,  445.,\n",
       "         139.]),\n",
       " array([23. , 27.5, 32. , 36.5, 41. , 45.5, 50. , 54.5, 59. , 63.5, 68. ],\n",
       "       dtype=float32),\n",
       " <BarContainer object of 10 artists>)"
      ]
     },
     "execution_count": 18,
     "metadata": {},
     "output_type": "execute_result"
    },
    {
     "data": {
      "image/png": "[encoded data removed]",
      "text/plain": [
       "<Figure size 432x288 with 1 Axes>"
      ]
     },
     "metadata": {},
     "output_type": "display_data"
    }
   ],
   "source": [
    "plt.hist(data_row['age'])"
   ]
  },
  {
   "cell_type": "markdown",
   "metadata": {},
   "source": [
    "Пропущенных значений нет, выбросов для корректировок - тоже.\n",
    "\n",
    "По квалификации количество преподавателей уровня 4 - минимальное (40 из 10 000)"
   ]
  },
  {
   "cell_type": "markdown",
   "metadata": {},
   "source": [
    "### 2.2 Категориальные / бинарные признаки<a class='anchor' id='cat_features'>"
   ]
  },
  {
   "cell_type": "code",
   "execution_count": 19,
   "metadata": {},
   "outputs": [
    {
     "data": {
      "text/html": [
       "<div>\n",
       "<style scoped>\n",
       "    .dataframe tbody tr th:only-of-type {\n",
       "        vertical-align: middle;\n",
       "    }\n",
       "\n",
       "    .dataframe tbody tr th {\n",
       "        vertical-align: top;\n",
       "    }\n",
       "\n",
       "    .dataframe thead th {\n",
       "        text-align: right;\n",
       "    }\n",
       "</style>\n",
       "<table border=\"1\" class=\"dataframe\">\n",
       "  <thead>\n",
       "    <tr style=\"text-align: right;\">\n",
       "      <th></th>\n",
       "      <th>physics</th>\n",
       "      <th>chemistry</th>\n",
       "      <th>biology</th>\n",
       "      <th>english</th>\n",
       "      <th>geography</th>\n",
       "      <th>history</th>\n",
       "    </tr>\n",
       "  </thead>\n",
       "  <tbody>\n",
       "    <tr>\n",
       "      <th>0</th>\n",
       "      <td>1.0</td>\n",
       "      <td>0.0</td>\n",
       "      <td>0.0</td>\n",
       "      <td>0.0</td>\n",
       "      <td>1.0</td>\n",
       "      <td>0.0</td>\n",
       "    </tr>\n",
       "    <tr>\n",
       "      <th>1</th>\n",
       "      <td>1.0</td>\n",
       "      <td>0.0</td>\n",
       "      <td>0.0</td>\n",
       "      <td>0.0</td>\n",
       "      <td>0.0</td>\n",
       "      <td>0.0</td>\n",
       "    </tr>\n",
       "    <tr>\n",
       "      <th>2</th>\n",
       "      <td>0.0</td>\n",
       "      <td>0.0</td>\n",
       "      <td>0.0</td>\n",
       "      <td>0.0</td>\n",
       "      <td>0.0</td>\n",
       "      <td>0.0</td>\n",
       "    </tr>\n",
       "    <tr>\n",
       "      <th>3</th>\n",
       "      <td>0.0</td>\n",
       "      <td>0.0</td>\n",
       "      <td>0.0</td>\n",
       "      <td>0.0</td>\n",
       "      <td>0.0</td>\n",
       "      <td>0.0</td>\n",
       "    </tr>\n",
       "    <tr>\n",
       "      <th>4</th>\n",
       "      <td>0.0</td>\n",
       "      <td>0.0</td>\n",
       "      <td>0.0</td>\n",
       "      <td>0.0</td>\n",
       "      <td>0.0</td>\n",
       "      <td>0.0</td>\n",
       "    </tr>\n",
       "    <tr>\n",
       "      <th>...</th>\n",
       "      <td>...</td>\n",
       "      <td>...</td>\n",
       "      <td>...</td>\n",
       "      <td>...</td>\n",
       "      <td>...</td>\n",
       "      <td>...</td>\n",
       "    </tr>\n",
       "    <tr>\n",
       "      <th>9995</th>\n",
       "      <td>1.0</td>\n",
       "      <td>1.0</td>\n",
       "      <td>0.0</td>\n",
       "      <td>0.0</td>\n",
       "      <td>0.0</td>\n",
       "      <td>0.0</td>\n",
       "    </tr>\n",
       "    <tr>\n",
       "      <th>9996</th>\n",
       "      <td>0.0</td>\n",
       "      <td>0.0</td>\n",
       "      <td>0.0</td>\n",
       "      <td>0.0</td>\n",
       "      <td>0.0</td>\n",
       "      <td>0.0</td>\n",
       "    </tr>\n",
       "    <tr>\n",
       "      <th>9997</th>\n",
       "      <td>1.0</td>\n",
       "      <td>0.0</td>\n",
       "      <td>0.0</td>\n",
       "      <td>0.0</td>\n",
       "      <td>0.0</td>\n",
       "      <td>0.0</td>\n",
       "    </tr>\n",
       "    <tr>\n",
       "      <th>9998</th>\n",
       "      <td>0.0</td>\n",
       "      <td>0.0</td>\n",
       "      <td>0.0</td>\n",
       "      <td>0.0</td>\n",
       "      <td>0.0</td>\n",
       "      <td>0.0</td>\n",
       "    </tr>\n",
       "    <tr>\n",
       "      <th>9999</th>\n",
       "      <td>0.0</td>\n",
       "      <td>0.0</td>\n",
       "      <td>0.0</td>\n",
       "      <td>0.0</td>\n",
       "      <td>0.0</td>\n",
       "      <td>0.0</td>\n",
       "    </tr>\n",
       "  </tbody>\n",
       "</table>\n",
       "<p>10000 rows × 6 columns</p>\n",
       "</div>"
      ],
      "text/plain": [
       "      physics  chemistry  biology  english  geography  history\n",
       "0         1.0        0.0      0.0      0.0        1.0      0.0\n",
       "1         1.0        0.0      0.0      0.0        0.0      0.0\n",
       "2         0.0        0.0      0.0      0.0        0.0      0.0\n",
       "3         0.0        0.0      0.0      0.0        0.0      0.0\n",
       "4         0.0        0.0      0.0      0.0        0.0      0.0\n",
       "...       ...        ...      ...      ...        ...      ...\n",
       "9995      1.0        1.0      0.0      0.0        0.0      0.0\n",
       "9996      0.0        0.0      0.0      0.0        0.0      0.0\n",
       "9997      1.0        0.0      0.0      0.0        0.0      0.0\n",
       "9998      0.0        0.0      0.0      0.0        0.0      0.0\n",
       "9999      0.0        0.0      0.0      0.0        0.0      0.0\n",
       "\n",
       "[10000 rows x 6 columns]"
      ]
     },
     "execution_count": 19,
     "metadata": {},
     "output_type": "execute_result"
    }
   ],
   "source": [
    "data_categ_features = data_row[['physics', 'chemistry', 'biology', 'english', 'geography', 'history']]\n",
    "data_categ_features"
   ]
  },
  {
   "cell_type": "code",
   "execution_count": 20,
   "metadata": {},
   "outputs": [],
   "source": [
    "mean_data_c = np.mean(data_categ_features).round(1)\n",
    "min_data_c = np.min(data_categ_features, axis = 0).round(1)\n",
    "max_data_c = np.max(data_categ_features, axis = 0).round(1)\n",
    "null_data_c = data_categ_features.isnull().astype(np.int).sum()"
   ]
  },
  {
   "cell_type": "code",
   "execution_count": 21,
   "metadata": {},
   "outputs": [
    {
     "data": {
      "text/plain": [
       "array([['physics', 0.4000000059604645, 0.0, 1.0, 0],\n",
       "       ['chemistry', 0.10000000149011612, 0.0, 1.0, 0],\n",
       "       ['biology', 0.10000000149011612, 0.0, 1.0, 0],\n",
       "       ['english', 0.10000000149011612, 0.0, 1.0, 0],\n",
       "       ['geography', 0.0, 0.0, 1.0, 0],\n",
       "       ['history', 0.0, 0.0, 1.0, 0]], dtype=object)"
      ]
     },
     "execution_count": 21,
     "metadata": {},
     "output_type": "execute_result"
    }
   ],
   "source": [
    "keys_data_c = mean_data_c.keys()\n",
    "np.column_stack([keys_data_c, mean_data_c, min_data_c, max_data_c, null_data_c])"
   ]
  },
  {
   "cell_type": "code",
   "execution_count": 22,
   "metadata": {},
   "outputs": [
    {
     "data": {
      "text/plain": [
       "{'physics': [6250, 3750],\n",
       " 'chemistry': [8671, 1329],\n",
       " 'biology': [8904, 1096],\n",
       " 'english': [9463, 537],\n",
       " 'geography': [9679, 321],\n",
       " 'history': [9806, 194]}"
      ]
     },
     "execution_count": 22,
     "metadata": {},
     "output_type": "execute_result"
    }
   ],
   "source": [
    "data_c = {}\n",
    "data_c_p = [len(data_categ_features[data_categ_features['physics'] == 0]), \n",
    "            len(data_categ_features[data_categ_features['physics'] == 1])]\n",
    "data_c.update({'physics': data_c_p})\n",
    "data_c_c = [len(data_categ_features[data_categ_features['chemistry'] == 0]), \n",
    "            len(data_categ_features[data_categ_features['chemistry'] == 1])]\n",
    "data_c.update({'chemistry': data_c_c})\n",
    "data_c_b = [len(data_categ_features[data_categ_features['biology'] == 0]), \n",
    "            len(data_categ_features[data_categ_features['biology'] == 1])]\n",
    "data_c.update({'biology': data_c_b})\n",
    "data_c_e = [len(data_categ_features[data_categ_features['english'] == 0]), \n",
    "            len(data_categ_features[data_categ_features['english'] == 1])]\n",
    "data_c.update({'english': data_c_e})\n",
    "data_c_g = [len(data_categ_features[data_categ_features['geography'] == 0]), \n",
    "            len(data_categ_features[data_categ_features['geography'] == 1])]\n",
    "data_c.update({'geography': data_c_g})\n",
    "data_c_h = [len(data_categ_features[data_categ_features['history'] == 0]), \n",
    "            len(data_categ_features[data_categ_features['history'] == 1])]\n",
    "data_c.update({'history': data_c_h})\n",
    "\n",
    "data_c"
   ]
  },
  {
   "cell_type": "markdown",
   "metadata": {},
   "source": [
    "Видно, что совсем мало учителей истории, географии, английского"
   ]
  },
  {
   "cell_type": "markdown",
   "metadata": {},
   "source": [
    "### 2.3 Матрица корреляций<a class='anchor' id='corr'>"
   ]
  },
  {
   "cell_type": "code",
   "execution_count": 23,
   "metadata": {
    "scrolled": true
   },
   "outputs": [
    {
     "data": {
      "image/png": "[encoded data removed]",
      "text/plain": [
       "<Figure size 576x432 with 2 Axes>"
      ]
     },
     "metadata": {},
     "output_type": "display_data"
    }
   ],
   "source": [
    "plt.figure(figsize=(8, 6))\n",
    "sns.heatmap(data_row.corr(), cmap= 'coolwarm', linewidths=1, fmt='.1f', annot=True, linecolor='black', square=True, annot_kws={'size':8})\n",
    "plt.show()"
   ]
  },
  {
   "cell_type": "code",
   "execution_count": 24,
   "metadata": {},
   "outputs": [
    {
     "data": {
      "image/png": "[encoded data removed]",
      "text/plain": [
       "<Figure size 432x288 with 1 Axes>"
      ]
     },
     "metadata": {},
     "output_type": "display_data"
    }
   ],
   "source": [
    "corrmat = data_row.loc[:, data_row.columns != 'Id'].corrwith(\n",
    "    data_row['mean_exam_points']).abs().sort_values(ascending=False)[1:]\n",
    "plt.bar(corrmat.index, corrmat.values)\n",
    "plt.title('Correlation to points')\n",
    "plt.xticks(rotation='vertical')\n",
    "plt.show()"
   ]
  },
  {
   "cell_type": "markdown",
   "metadata": {},
   "source": [
    "Ожидаемо, высокая корреляция между баллами и ценой за обучение, а также квалификации и между двумя этими факторами между собой.\n",
    "Также есть корреляция менее сильная с опытом и обучением физикой."
   ]
  },
  {
   "cell_type": "markdown",
   "metadata": {},
   "source": [
    "# 3. Анализ зависимости таргета от признаков<a class='anchor' id='target_features'>"
   ]
  },
  {
   "cell_type": "markdown",
   "metadata": {},
   "source": [
    "## 3.1 Количественные признаки<a class='anchor' id='num_features_target'>"
   ]
  },
  {
   "cell_type": "code",
   "execution_count": 25,
   "metadata": {},
   "outputs": [
    {
     "name": "stderr",
     "output_type": "stream",
     "text": [
      "C:\\Users\\artemiyb1\\anaconda3\\lib\\site-packages\\seaborn\\_decorators.py:36: FutureWarning: Pass the following variables as keyword args: x, y. From version 0.12, the only valid positional argument will be `data`, and passing other arguments without an explicit keyword will result in an error or misinterpretation.\n",
      "  warnings.warn(\n"
     ]
    },
    {
     "data": {
      "image/png": "[encoded data removed]",
      "text/plain": [
       "<Figure size 288x288 with 3 Axes>"
      ]
     },
     "metadata": {},
     "output_type": "display_data"
    }
   ],
   "source": [
    "grid = sns.jointplot(data_row['qualification'], data_row['mean_exam_points'], kind='kde')\n",
    "grid.fig.set_figwidth(4)\n",
    "grid.fig.set_figheight(4)\n",
    "\n",
    "plt.show()"
   ]
  },
  {
   "cell_type": "code",
   "execution_count": 26,
   "metadata": {
    "scrolled": true
   },
   "outputs": [
    {
     "name": "stderr",
     "output_type": "stream",
     "text": [
      "C:\\Users\\artemiyb1\\anaconda3\\lib\\site-packages\\seaborn\\_decorators.py:36: FutureWarning: Pass the following variables as keyword args: x, y. From version 0.12, the only valid positional argument will be `data`, and passing other arguments without an explicit keyword will result in an error or misinterpretation.\n",
      "  warnings.warn(\n"
     ]
    },
    {
     "data": {
      "image/png": "[encoded data removed]",
      "text/plain": [
       "<Figure size 288x288 with 3 Axes>"
      ]
     },
     "metadata": {},
     "output_type": "display_data"
    }
   ],
   "source": [
    "grid = sns.jointplot(data_row['lesson_price'], data_row['mean_exam_points'], kind='kde')\n",
    "grid.fig.set_figwidth(4)\n",
    "grid.fig.set_figheight(4)\n",
    "\n",
    "plt.show()"
   ]
  },
  {
   "cell_type": "markdown",
   "metadata": {},
   "source": [
    "В целом на графиках отражена картина, соответствующая корреляцинной матрицы, построенной выше. "
   ]
  },
  {
   "cell_type": "markdown",
   "metadata": {},
   "source": [
    "## 3.2 Категориальные / бинарные признаки<a class='anchor' id='cat_bin_features'>"
   ]
  },
  {
   "cell_type": "code",
   "execution_count": 27,
   "metadata": {},
   "outputs": [
    {
     "data": {
      "image/png": "[encoded data removed]",
      "text/plain": [
       "<Figure size 576x432 with 2 Axes>"
      ]
     },
     "metadata": {},
     "output_type": "display_data"
    }
   ],
   "source": [
    "plt.figure(figsize=(8, 6))\n",
    "\n",
    "plt.subplot(2, 1, 1)\n",
    "plt.scatter(data_row['mean_exam_points'], data_row['physics'])\n",
    "\n",
    "plt.subplot(2, 1, 2)\n",
    "plt.scatter(data_row['mean_exam_points'], data_row['biology'])\n",
    "\n",
    "plt.show()"
   ]
  },
  {
   "cell_type": "markdown",
   "metadata": {},
   "source": [
    "Учитывая, что больше всего разброс учителей в физике, химии и биологии, там и сильнее была выявлена связь с итоговым баллом\n",
    "С другой стороны, видимо, это самые сложные предметы и по остальным ученики могли подготовиться сами для получения высокой оценки."
   ]
  },
  {
   "cell_type": "markdown",
   "metadata": {},
   "source": [
    "# 4. Моделирование<a class='anchor' id='model'>"
   ]
  },
  {
   "cell_type": "markdown",
   "metadata": {},
   "source": [
    "## 4.1 Отбор факторов<a class='anchor' id='model_factor'>"
   ]
  },
  {
   "cell_type": "markdown",
   "metadata": {},
   "source": [
    "Помимо корреляционого анализа, проведем анализ снижение размерности по Методу главных компонент"
   ]
  },
  {
   "cell_type": "code",
   "execution_count": 28,
   "metadata": {},
   "outputs": [],
   "source": [
    "data_num_features_std = standard_scale(data_num_features)"
   ]
  },
  {
   "cell_type": "code",
   "execution_count": 29,
   "metadata": {},
   "outputs": [
    {
     "name": "stdout",
     "output_type": "stream",
     "text": [
      "Собственные значения и собственные векторы в порядке убывания:\n",
      "(18991.91, array([0.01717602, 0.32976833, 0.6726765 , 0.66216624], dtype=float32))\n",
      "(10250.195, array([ 0.9158297 ,  0.3733469 , -0.09419914, -0.11399364], dtype=float32))\n",
      "(8676.309, array([-0.40111807,  0.86547464, -0.17190428, -0.24598134], dtype=float32))\n",
      "(2078.3806, array([-0.00807646,  0.05308992, -0.71349967,  0.6985946 ], dtype=float32))\n"
     ]
    }
   ],
   "source": [
    "# Найдем собственные векторы и собственные значения\n",
    " \n",
    "covariance_matrix = data_num_features_std.T @ data_num_features_std\n",
    "\n",
    "eig_values, eig_vectors = np.linalg.eig(covariance_matrix)\n",
    "\n",
    "# сформируем список кортежей (собственное значение, собственный вектор)\n",
    "eig_pairs = [(np.abs(eig_values[i]), eig_vectors[:, i]) for i in range(len(eig_values))]\n",
    "\n",
    "# и отсортируем список по убыванию собственных значений\n",
    "eig_pairs.sort(key=lambda x: x[0], reverse=True)\n",
    "\n",
    "print('Собственные значения и собственные векторы в порядке убывания:')\n",
    "for i in eig_pairs:\n",
    "    print(i)"
   ]
  },
  {
   "cell_type": "code",
   "execution_count": 30,
   "metadata": {},
   "outputs": [
    {
     "name": "stdout",
     "output_type": "stream",
     "text": [
      "Доля дисперсии, описываемая каждой из компонент \n",
      "[47.4835803950623, 25.62754189451619, 21.692509771489195, 5.196367938932314]\n",
      "Кумулятивная доля дисперсии по компонентам \n",
      "[ 47.4835804   73.11112229  94.80363206 100.        ]\n"
     ]
    }
   ],
   "source": [
    "eig_sum = sum(eig_values)\n",
    "var_exp = [(i / eig_sum) * 100 for i in sorted(eig_values, reverse=True)]\n",
    "cum_var_exp = np.cumsum(var_exp)\n",
    "print(f'Доля дисперсии, описываемая каждой из компонент \\n{var_exp}')\n",
    "\n",
    "# а теперь оценим кумулятивную (то есть накапливаемую) дисперсию при учитывании каждой из компонент\n",
    "print(f'Кумулятивная доля дисперсии по компонентам \\n{cum_var_exp}')"
   ]
  },
  {
   "cell_type": "markdown",
   "metadata": {},
   "source": [
    "Таким образом, первая главная компонента (возраст) описывает почти 48% информации, а первые три в сумме - 94.8%. В то же время последняя компонента (квалификация) описывает всего 5%.\n",
    "Корреляционный анализ показал большую зависимость именно квалификации и цены и почти нулевую - возраста."
   ]
  },
  {
   "cell_type": "code",
   "execution_count": null,
   "metadata": {},
   "outputs": [],
   "source": []
  },
  {
   "cell_type": "markdown",
   "metadata": {},
   "source": [
    "**Исходя из этого вводим новую переменную - показатель зависимости от цены и возраста**\n",
    "\n",
    "Возраст до 30 = 1В\n",
    "от 30 до 50 = 2В\n",
    "больше 50 = 3D\n",
    "\n",
    "Цена до 1000 = 1М\n",
    "от 1000 до 2100 = 2М\n",
    "больше 2100 = 3М\n"
   ]
  },
  {
   "cell_type": "code",
   "execution_count": 31,
   "metadata": {},
   "outputs": [],
   "source": [
    "#показатель зависимости от цены и возраста\n",
    "def age_price(X):\n",
    "\n",
    "    X['age_price'] = 2\n",
    "    X.loc[((X['age'] < 30) | ((X['age'] >= 30) & (X['age'] < 50)) | (X['age'] >= 50)) & \n",
    "          (X['lesson_price'] <= 1000), 'age_price'] = 1\n",
    "    X.loc[(((X['age'] >= 30) & (X['age'] < 50)) | (X['age'] >= 50)) & \n",
    "          (X['lesson_price'] > 2100), 'age_price'] = 5\n",
    "    X.loc[((X['age'] >= 30) & (X['age'] < 50)) & \n",
    "          ((X['lesson_price'] > 1000) & (X['lesson_price'] <= 2100)), 'age_price'] = 4\n",
    "    X.loc[(X['age'] >= 50) & \n",
    "          ((X['lesson_price'] > 1000) & (X['lesson_price'] <= 2100)), 'age_price'] = 3\n",
    "    X.loc[(X['age'] < 30) & \n",
    "          (X['lesson_price'] > 2100), 'age_price'] = 3\n",
    "    X.loc[(X['age'] < 30) & \n",
    "          ((X['lesson_price'] > 1000) & (X['lesson_price'] <= 2100)), 'age_price'] = 2\n",
    "\n",
    "    return X\n"
   ]
  },
  {
   "cell_type": "code",
   "execution_count": 32,
   "metadata": {},
   "outputs": [
    {
     "data": {
      "text/plain": [
       "(array([ 336.,    0.,  152.,    0.,    0., 2388.,    0., 4615.,    0.,\n",
       "        2509.]),\n",
       " array([1. , 1.4, 1.8, 2.2, 2.6, 3. , 3.4, 3.8, 4.2, 4.6, 5. ]),\n",
       " <BarContainer object of 10 artists>)"
      ]
     },
     "execution_count": 32,
     "metadata": {},
     "output_type": "execute_result"
    },
    {
     "data": {
      "image/png": "[encoded data removed]",
      "text/plain": [
       "<Figure size 432x288 with 1 Axes>"
      ]
     },
     "metadata": {},
     "output_type": "display_data"
    }
   ],
   "source": [
    "data_row = age_price(data_row)\n",
    "plt.hist(data_row['age_price'])"
   ]
  },
  {
   "cell_type": "code",
   "execution_count": 33,
   "metadata": {},
   "outputs": [
    {
     "name": "stderr",
     "output_type": "stream",
     "text": [
      "C:\\Users\\artemiyb1\\anaconda3\\lib\\site-packages\\seaborn\\_decorators.py:36: FutureWarning: Pass the following variables as keyword args: x, y. From version 0.12, the only valid positional argument will be `data`, and passing other arguments without an explicit keyword will result in an error or misinterpretation.\n",
      "  warnings.warn(\n"
     ]
    },
    {
     "data": {
      "image/png": "[encoded data removed]",
      "text/plain": [
       "<Figure size 288x288 with 3 Axes>"
      ]
     },
     "metadata": {},
     "output_type": "display_data"
    }
   ],
   "source": [
    "grid = sns.jointplot(data_row['age_price'], data_row['mean_exam_points'], kind='kde')\n",
    "grid.fig.set_figwidth(4)\n",
    "grid.fig.set_figheight(4)\n",
    "\n",
    "plt.show()"
   ]
  },
  {
   "cell_type": "code",
   "execution_count": 34,
   "metadata": {},
   "outputs": [
    {
     "name": "stdout",
     "output_type": "stream",
     "text": [
      "Собственные значения и собственные векторы в порядке убывания:\n",
      "(3949.6226, array([-0.96325195, -0.20685658, -0.1523187 , -0.06608644, -0.03612692,\n",
      "       -0.02196538], dtype=float32))\n",
      "(1240.9302, array([-0.24948992,  0.9190229 ,  0.29890794,  0.05860734,  0.01691337,\n",
      "        0.00920874], dtype=float32))\n",
      "(1009.77936, array([ 0.08094444,  0.33036008, -0.93935865, -0.041095  , -0.00560068,\n",
      "       -0.01397619], dtype=float32))\n",
      "(518.86505, array([-0.04684953, -0.05481321, -0.06708091,  0.99488324,  0.02113137,\n",
      "        0.00784648], dtype=float32))\n",
      "(315.9091, array([ 0.02942795,  0.02014831,  0.01470011,  0.02481319, -0.9988492 ,\n",
      "       -0.01401813], dtype=float32))\n",
      "(191.89375, array([-0.01695794, -0.00768094, -0.01850399, -0.01002928, -0.01520313,\n",
      "        0.99948955], dtype=float32))\n"
     ]
    }
   ],
   "source": [
    "# Найдем собственные векторы и собственные значения\n",
    " \n",
    "covariance_matrix = data_categ_features.T @ data_categ_features\n",
    "\n",
    "eig_values, eig_vectors = np.linalg.eig(covariance_matrix)\n",
    "\n",
    "# сформируем список кортежей (собственное значение, собственный вектор)\n",
    "eig_pairs = [(np.abs(eig_values[i]), eig_vectors[:, i]) for i in range(len(eig_values))]\n",
    "\n",
    "# и отсортируем список по убыванию собственных значений\n",
    "eig_pairs.sort(key=lambda x: x[0], reverse=True)\n",
    "\n",
    "print('Собственные значения и собственные векторы в порядке убывания:')\n",
    "for i in eig_pairs:\n",
    "    print(i)"
   ]
  },
  {
   "cell_type": "code",
   "execution_count": 35,
   "metadata": {
    "scrolled": true
   },
   "outputs": [
    {
     "name": "stdout",
     "output_type": "stream",
     "text": [
      "Доля дисперсии, описываемая каждой из компонент \n",
      "[54.650928005158704, 17.17075105024628, 13.972317144626576, 7.179535801370437, 4.371234105462336, 2.6552338931356627]\n",
      "Кумулятивная доля дисперсии по компонентам \n",
      "[ 54.65092801  71.82167906  85.7939962   92.973532    97.34476611\n",
      " 100.        ]\n"
     ]
    }
   ],
   "source": [
    "eig_sum = sum(eig_values)\n",
    "var_exp = [(i / eig_sum) * 100 for i in sorted(eig_values, reverse=True)]\n",
    "cum_var_exp = np.cumsum(var_exp)\n",
    "print(f'Доля дисперсии, описываемая каждой из компонент \\n{var_exp}')\n",
    "\n",
    "# а теперь оценим кумулятивную (то есть накапливаемую) дисперсию при учитывании каждой из компонент\n",
    "print(f'Кумулятивная доля дисперсии по компонентам \\n{cum_var_exp}')"
   ]
  },
  {
   "cell_type": "markdown",
   "metadata": {},
   "source": [
    "Категориальные признаки по главным компонентам соответствуют выводам дисперсионного анализа\n",
    "physics, chemistry, biology - в наибольшей степени описывают целевое значение"
   ]
  },
  {
   "cell_type": "code",
   "execution_count": 36,
   "metadata": {},
   "outputs": [],
   "source": [
    "data_row.insert(0, 'free', 1)"
   ]
  },
  {
   "cell_type": "markdown",
   "metadata": {},
   "source": [
    "После анализа принято решение рассматривать в модели следующие параметры:\n",
    " - free\n",
    " - age_price (новая переменная)                    \n",
    " - years_of_experience    \n",
    " - qualification          \n",
    " - physics                \n",
    " - chemistry              \n",
    " - biology                "
   ]
  },
  {
   "cell_type": "code",
   "execution_count": 37,
   "metadata": {},
   "outputs": [],
   "source": [
    "data_all = ['free', 'years_of_experience', 'qualification', 'physics', 'chemistry', 'biology', 'age_price', 'mean_exam_points']\n",
    "\n",
    "feature_names = ['free', 'years_of_experience', 'qualification', 'physics', 'chemistry', 'biology', 'age_price']\n",
    "\n",
    "target_name = 'mean_exam_points'"
   ]
  },
  {
   "cell_type": "code",
   "execution_count": 38,
   "metadata": {},
   "outputs": [],
   "source": [
    "data_row = data_row[data_all]"
   ]
  },
  {
   "cell_type": "code",
   "execution_count": 39,
   "metadata": {},
   "outputs": [
    {
     "data": {
      "image/png": "[encoded data removed]",
      "text/plain": [
       "<Figure size 576x432 with 2 Axes>"
      ]
     },
     "metadata": {},
     "output_type": "display_data"
    }
   ],
   "source": [
    "plt.figure(figsize=(8, 6))\n",
    "sns.heatmap(data_row.corr(), cmap= 'coolwarm', linewidths=1, fmt='.1f', annot=True, linecolor='black', square=True, annot_kws={'size':8})\n",
    "plt.show()"
   ]
  },
  {
   "cell_type": "code",
   "execution_count": 40,
   "metadata": {},
   "outputs": [],
   "source": [
    "# Итоговая функция подготовки данных\n",
    "class DataPreprocessing:\n",
    "    def transform(self, X):\n",
    "        X['age_price'] = 2\n",
    "        X.loc[((X['age'] < 30) | ((X['age'] >= 30) & (X['age'] < 50)) | (X['age'] >= 50)) & \n",
    "              (X['lesson_price'] <= 1000), 'age_price'] = 1\n",
    "        X.loc[(((X['age'] >= 30) & (X['age'] < 50)) | (X['age'] >= 50)) & \n",
    "              (X['lesson_price'] > 2100), 'age_price'] = 5\n",
    "        X.loc[((X['age'] >= 30) & (X['age'] < 50)) & \n",
    "              ((X['lesson_price'] > 1000) & (X['lesson_price'] <= 2100)), 'age_price'] = 4\n",
    "        X.loc[(X['age'] >= 50) & \n",
    "              ((X['lesson_price'] > 1000) & (X['lesson_price'] <= 2100)), 'age_price'] = 3\n",
    "        X.loc[(X['age'] < 30) & \n",
    "              (X['lesson_price'] > 2100), 'age_price'] = 3\n",
    "        X.loc[(X['age'] < 30) & \n",
    "              ((X['lesson_price'] > 1000) & (X['lesson_price'] <= 2100)), 'age_price'] = 2\n",
    "        \n",
    "        X.insert(0, 'free', 1)\n",
    "        \n",
    "        all_data = ['Id', 'free', 'years_of_experience', 'qualification', 'physics', 'chemistry', 'biology', 'age_price']\n",
    "        feature_names = ['free', 'years_of_experience', 'qualification', 'physics', 'chemistry', 'biology', 'age_price']\n",
    "        X = X[all_data]\n",
    "        return X\n"
   ]
  },
  {
   "cell_type": "markdown",
   "metadata": {},
   "source": [
    "## 4.2 Стандартизация<a class='anchor' id='model_standart'>"
   ]
  },
  {
   "cell_type": "markdown",
   "metadata": {},
   "source": [
    "Поскольку в итоговом спискевсе имеют примерно одну размерность, стандартизацию можно не проводить"
   ]
  },
  {
   "cell_type": "code",
   "execution_count": 41,
   "metadata": {},
   "outputs": [],
   "source": [
    "#сохранение датасета\n",
    "data_row.to_csv(PREPARED_DATASET_PATH, index=False, encoding='utf-8', sep=',')"
   ]
  },
  {
   "cell_type": "code",
   "execution_count": null,
   "metadata": {},
   "outputs": [],
   "source": []
  },
  {
   "cell_type": "markdown",
   "metadata": {},
   "source": [
    "## 4.3 Разбиение на train/test<a class='anchor' id='model_devide'>"
   ]
  },
  {
   "cell_type": "code",
   "execution_count": 42,
   "metadata": {},
   "outputs": [],
   "source": [
    "X = data_row[feature_names]\n",
    "y = data_row[target_name]\n",
    "\n",
    "X_train, X_test, y_train, y_test = train_test_split(X, y, test_size=0.4, shuffle=True, random_state=42)"
   ]
  },
  {
   "cell_type": "code",
   "execution_count": null,
   "metadata": {},
   "outputs": [],
   "source": []
  },
  {
   "cell_type": "code",
   "execution_count": 43,
   "metadata": {},
   "outputs": [],
   "source": [
    "def calc_mse(y, y_pred):\n",
    "    err = np.mean((y - y_pred) ** 2)\n",
    "    return err"
   ]
  },
  {
   "cell_type": "code",
   "execution_count": 44,
   "metadata": {
    "scrolled": true
   },
   "outputs": [],
   "source": [
    "def r_2(y, y_pred):\n",
    "    d1 = y - y_pred\n",
    "    d2 = y - y.mean()\n",
    "    r_2 = 1 - d1.dot(d1) / d2.dot(d2)\n",
    "    return r_2"
   ]
  },
  {
   "cell_type": "code",
   "execution_count": 45,
   "metadata": {},
   "outputs": [],
   "source": [
    "def evaluate_preds(true_values, pred_values):\n",
    "    \"\"\"Оценка качества модели и график preds vs true\"\"\"\n",
    "    r2_m = round(r_2(true_values, pred_values), 3)\n",
    "    RMSE_m = round(np.sqrt(calc_mse(true_values, pred_values)), 3)\n",
    "    MSE_m = round(calc_mse(true_values, pred_values), 3)\n",
    "    print(\"R2:\\t\" + str(r2_m) + \"\\n\" +\n",
    "          \"RMSE:\\t\" + str(RMSE_m) + \"\\n\" +\n",
    "          \"MSE:\\t\" + str(MSE_m)\n",
    "         )\n",
    "    \n",
    "    plt.figure(figsize=(5,5))\n",
    "    \n",
    "    sns.scatterplot(x=pred_values, y=true_values)\n",
    "    plt.plot([0, 100], [0, 100], linestyle='--', color='black')  # диагональ, где true_values = pred_values\n",
    "    \n",
    "    plt.xlabel('Predicted values')\n",
    "    plt.ylabel('True values')\n",
    "    plt.title('True vs Predicted values')\n",
    "    \n",
    "    plt.show()\n",
    "    return r2_m, MSE_m"
   ]
  },
  {
   "cell_type": "code",
   "execution_count": null,
   "metadata": {},
   "outputs": [],
   "source": []
  },
  {
   "cell_type": "markdown",
   "metadata": {},
   "source": [
    "## 4.4 Линейная регрессия<a class='anchor' id='model_lr'>"
   ]
  },
  {
   "cell_type": "code",
   "execution_count": 46,
   "metadata": {},
   "outputs": [],
   "source": [
    "# классический  GD\n",
    "def gradient_descent(X, y, iterations, eta=1e-4):\n",
    "    W = np.random.randn(X.shape[1])\n",
    "    n = X.shape[0]\n",
    "    \n",
    "    errors = []\n",
    "    w_list = [W.copy()]\n",
    "    for i in range(0, iterations):\n",
    "        y_pred = np.dot(X, W)\n",
    "        err = calc_mse(y, y_pred)\n",
    "        errors.append(err)\n",
    "        \n",
    "        dQ = 2/n * X.T @ (y_pred - y) # градиент функции ошибки\n",
    "        W -= (eta * dQ)\n",
    "        w_list.append(W.copy())\n",
    "        \n",
    "        if i % (iterations / 10) == 0:\n",
    "            print(f'Iter: {i}, error {err}')\n",
    "        \n",
    "    print(f'Final MSE: {calc_mse(y, np.dot(X, W))}')\n",
    "    return W, errors, w_list"
   ]
  },
  {
   "cell_type": "code",
   "execution_count": 47,
   "metadata": {},
   "outputs": [
    {
     "name": "stdout",
     "output_type": "stream",
     "text": [
      "Iter: 0, error 4458.896758009791\n",
      "Iter: 500, error 158.06661664450291\n",
      "Iter: 1000, error 146.69764272012483\n",
      "Iter: 1500, error 139.40118602788857\n",
      "Iter: 2000, error 134.1925716760073\n",
      "Iter: 2500, error 130.23060209923634\n",
      "Iter: 3000, error 127.05548700924342\n",
      "Iter: 3500, error 124.40739225224222\n",
      "Iter: 4000, error 122.1341557453706\n",
      "Iter: 4500, error 120.14298999976162\n",
      "Final MSE: 118.37469705283496\n"
     ]
    }
   ],
   "source": [
    "weights_GD, errors_GD, w_list_GD = gradient_descent(X_train, y_train, iterations=5000, eta=1e-3)"
   ]
  },
  {
   "cell_type": "code",
   "execution_count": 48,
   "metadata": {},
   "outputs": [
    {
     "data": {
      "text/plain": [
       "free                   13.123827\n",
       "years_of_experience     1.165721\n",
       "qualification          10.412778\n",
       "physics                 6.192199\n",
       "chemistry               0.835502\n",
       "biology                 1.684130\n",
       "age_price               6.909263\n",
       "dtype: float64"
      ]
     },
     "execution_count": 48,
     "metadata": {},
     "output_type": "execute_result"
    }
   ],
   "source": [
    "weights_GD"
   ]
  },
  {
   "cell_type": "code",
   "execution_count": 49,
   "metadata": {},
   "outputs": [],
   "source": [
    "y_train_pred = np.dot(X_train, weights_GD)"
   ]
  },
  {
   "cell_type": "code",
   "execution_count": 50,
   "metadata": {},
   "outputs": [
    {
     "data": {
      "text/plain": [
       "array([52.45781748, 68.94435706, 62.8705955 , ..., 59.36708086,\n",
       "       52.85778871, 58.53157905])"
      ]
     },
     "execution_count": 50,
     "metadata": {},
     "output_type": "execute_result"
    }
   ],
   "source": [
    "y_train_pred"
   ]
  },
  {
   "cell_type": "code",
   "execution_count": 51,
   "metadata": {},
   "outputs": [
    {
     "data": {
      "text/plain": [
       "0.44896828616710016"
      ]
     },
     "execution_count": 51,
     "metadata": {},
     "output_type": "execute_result"
    }
   ],
   "source": [
    "r_2(y_train, y_train_pred)"
   ]
  },
  {
   "cell_type": "code",
   "execution_count": 52,
   "metadata": {},
   "outputs": [
    {
     "name": "stdout",
     "output_type": "stream",
     "text": [
      "R2:\t0.449\n",
      "RMSE:\t10.88\n",
      "MSE:\t118.375\n"
     ]
    },
    {
     "data": {
      "image/png": "[encoded data removed]",
      "text/plain": [
       "<Figure size 360x360 with 1 Axes>"
      ]
     },
     "metadata": {},
     "output_type": "display_data"
    },
    {
     "data": {
      "text/plain": [
       "(0.449, 118.375)"
      ]
     },
     "execution_count": 52,
     "metadata": {},
     "output_type": "execute_result"
    }
   ],
   "source": [
    "evaluate_preds(y_train, y_train_pred)"
   ]
  },
  {
   "cell_type": "code",
   "execution_count": null,
   "metadata": {},
   "outputs": [],
   "source": []
  },
  {
   "cell_type": "code",
   "execution_count": 53,
   "metadata": {},
   "outputs": [],
   "source": [
    "results_all['Leaner_regress'] = [round(r_2(y_train, y_train_pred), 3), round(calc_mse(y_train, y_train_pred), 3)]"
   ]
  },
  {
   "cell_type": "markdown",
   "metadata": {},
   "source": [
    "## 4.5 Дерево решений<a class='anchor' id='model_tree'>"
   ]
  },
  {
   "cell_type": "code",
   "execution_count": 54,
   "metadata": {},
   "outputs": [],
   "source": [
    "# Реализуем класс узла\n",
    "\n",
    "class Node:\n",
    "    \n",
    "    def __init__(self, index, t, true_branch, false_branch):\n",
    "        self.index = index  # индекс признака, по которому ведется сравнение с порогом в этом узле\n",
    "        self.t = t  # значение порога\n",
    "        self.true_branch = true_branch  # поддерево, удовлетворяющее условию в узле\n",
    "        self.false_branch = false_branch  # поддерево, не удовлетворяющее условию в узле"
   ]
  },
  {
   "cell_type": "code",
   "execution_count": 55,
   "metadata": {},
   "outputs": [],
   "source": [
    "# Расчет критерия Джини\n",
    "\n",
    "def gini(labels):\n",
    "    #  подсчет количества объектов разных классов\n",
    "    classes = {}\n",
    "    for label in labels:\n",
    "        if label not in classes:\n",
    "            classes[label] = 0\n",
    "        classes[label] += 1\n",
    "    \n",
    "    #  расчет критерия\n",
    "    impurity = 1\n",
    "    for label in classes:\n",
    "        p = classes[label] / len(labels)\n",
    "        impurity -= p ** 2\n",
    "        \n",
    "    return impurity"
   ]
  },
  {
   "cell_type": "code",
   "execution_count": 56,
   "metadata": {},
   "outputs": [],
   "source": [
    "# Расчет прироста\n",
    "\n",
    "def gain(left_labels, right_labels, root_gini):\n",
    "\n",
    "    # доля выборки, ушедшая в левое поддерево\n",
    "    p = float(left_labels.shape[0]) / (left_labels.shape[0] + right_labels.shape[0])\n",
    "    \n",
    "    return root_gini - p * gini(left_labels) - (1 - p) * gini(right_labels)"
   ]
  },
  {
   "cell_type": "code",
   "execution_count": 57,
   "metadata": {},
   "outputs": [],
   "source": [
    "# Разбиение датасета в узле\n",
    "\n",
    "def split(data, labels, column_index, t):\n",
    "    \n",
    "    left = np.where(data[:, column_index] <= t)\n",
    "    right = np.where(data[:, column_index] > t)\n",
    "        \n",
    "    true_data = data[left]\n",
    "    false_data = data[right]\n",
    "    \n",
    "    true_labels = labels[left]\n",
    "    false_labels = labels[right]\n",
    "        \n",
    "    return true_data, false_data, true_labels, false_labels"
   ]
  },
  {
   "cell_type": "code",
   "execution_count": 58,
   "metadata": {},
   "outputs": [],
   "source": [
    "def classify_object(obj, node):\n",
    "\n",
    "    #  Останавливаем рекурсию, если достигли листа\n",
    "    if isinstance(node, Leaf):\n",
    "        answer = node.prediction\n",
    "        return answer\n",
    "\n",
    "    if obj[node.index] <= node.t:\n",
    "        return classify_object(obj, node.true_branch)\n",
    "    else:\n",
    "        return classify_object(obj, node.false_branch)"
   ]
  },
  {
   "cell_type": "code",
   "execution_count": 59,
   "metadata": {},
   "outputs": [],
   "source": [
    "def predict(data, tree):\n",
    "    \n",
    "    classes = []\n",
    "    for obj in data:\n",
    "        prediction = classify_object(obj, tree)\n",
    "        classes.append(prediction)\n",
    "    return classes"
   ]
  },
  {
   "cell_type": "code",
   "execution_count": 60,
   "metadata": {},
   "outputs": [],
   "source": [
    "# Напечатаем ход нашего дерева\n",
    "def print_tree(node, spacing=\"\"):\n",
    "\n",
    "    # Если лист, то выводим его прогноз\n",
    "    if isinstance(node, Leaf):\n",
    "        print(spacing + \"Прогноз:\", node.prediction)\n",
    "        return\n",
    "\n",
    "    # Выведем значение индекса и порога на этом узле\n",
    "    print(spacing + 'Индекс', str(node.index), '<=', str(node.t))\n",
    "\n",
    "    # Рекурсионный вызов функции на положительном поддереве\n",
    "    print (spacing + '--> True:')\n",
    "    print_tree(node.true_branch, spacing + \"  \")\n",
    "\n",
    "    # Рекурсионный вызов функции на отрицательном поддереве\n",
    "    print (spacing + '--> False:')\n",
    "    print_tree(node.false_branch, spacing + \"  \")"
   ]
  },
  {
   "cell_type": "code",
   "execution_count": 61,
   "metadata": {},
   "outputs": [],
   "source": [
    "# Построение дерева с помощью рекурсивной функции\n",
    "\n",
    "def build_tree_tree(data, target):\n",
    "\n",
    "    gain, t, index = find_best_split(data, target)\n",
    "\n",
    "    #  Базовый случай - прекращаем рекурсию, когда нет прироста в качества\n",
    "    if gain == 0:\n",
    "        return Leaf(data, target)\n",
    "\n",
    "    true_data, false_data, true_target, false_target = split(data, target, index, t)\n",
    "\n",
    "    # Рекурсивно строим два поддерева\n",
    "    true_branch = build_tree_tree(true_data, true_target)\n",
    "    false_branch = build_tree_tree(false_data, false_target)\n",
    "\n",
    "    node = Node(index, t, true_branch, false_branch)\n",
    "\n",
    "    # Возвращаем класс узла со всеми поддеревьями, то есть целого дерева\n",
    "    return node"
   ]
  },
  {
   "cell_type": "code",
   "execution_count": null,
   "metadata": {},
   "outputs": [],
   "source": []
  },
  {
   "cell_type": "code",
   "execution_count": 62,
   "metadata": {},
   "outputs": [],
   "source": [
    "# И класс терминального узла (листа)\n",
    "\n",
    "class Leaf:\n",
    "    \n",
    "    def __init__(self, data, targets):\n",
    "        self.data = data\n",
    "        self.targets = targets\n",
    "        self.prediction = self.predict()\n",
    "        \n",
    "    def predict(self):\n",
    "        return self.targets.mean()"
   ]
  },
  {
   "cell_type": "code",
   "execution_count": 63,
   "metadata": {},
   "outputs": [],
   "source": [
    "def mse(targets):\n",
    "    return np.mean((targets - targets.mean())**2)"
   ]
  },
  {
   "cell_type": "code",
   "execution_count": 64,
   "metadata": {},
   "outputs": [],
   "source": [
    "# Нахождение наилучшего разбиения\n",
    "\n",
    "def find_best_split(data, targets):\n",
    "    \n",
    "    #  обозначим минимальное количество объектов в узле\n",
    "    min_samples_leaf = 5\n",
    "\n",
    "    root_mse = mse(targets)\n",
    "\n",
    "    best_gain = 0\n",
    "    best_t = None\n",
    "    best_index = None\n",
    "    \n",
    "    n_features = data.shape[1]\n",
    "    \n",
    "    for index in range(n_features):\n",
    "        # будем проверять только уникальные значения признака, исключая повторения\n",
    "        t_values = np.unique(data[:, index])\n",
    "        \n",
    "        for t in t_values:\n",
    "            true_data, false_data, true_targets, false_targets = split(data, targets, index, t)\n",
    "            #  пропускаем разбиения, в которых в узле остается менее 5 объектов\n",
    "            if len(true_data) < min_samples_leaf or len(false_data) < min_samples_leaf:\n",
    "                continue\n",
    "            \n",
    "            current_gain = gain(true_targets, false_targets, root_mse)\n",
    "            \n",
    "            #  выбираем порог, на котором получается максимальный прирост качества\n",
    "            if current_gain > best_gain:\n",
    "                best_gain, best_t, best_index = current_gain, t, index\n",
    "\n",
    "    return best_gain, best_t, best_index"
   ]
  },
  {
   "cell_type": "code",
   "execution_count": null,
   "metadata": {},
   "outputs": [],
   "source": []
  },
  {
   "cell_type": "code",
   "execution_count": 65,
   "metadata": {},
   "outputs": [
    {
     "name": "stdout",
     "output_type": "stream",
     "text": [
      "Индекс 2 <= 2.0\n",
      "--> True:\n",
      "  Индекс 6 <= 4.0\n",
      "  --> True:\n",
      "    Индекс 2 <= 1.0\n",
      "    --> True:\n",
      "      Индекс 3 <= 0.0\n",
      "      --> True:\n",
      "        Индекс 6 <= 2.0\n",
      "        --> True:\n",
      "          Индекс 1 <= 3.0\n",
      "          --> True:\n",
      "            Индекс 1 <= 0.0\n",
      "            --> True:\n",
      "              Прогноз: 55.0\n",
      "            --> False:\n",
      "              Индекс 1 <= 1.0\n",
      "              --> True:\n",
      "                Прогноз: 47.5\n",
      "              --> False:\n",
      "                Индекс 6 <= 1.0\n",
      "                --> True:\n",
      "                  Индекс 4 <= 0.0\n",
      "                  --> True:\n",
      "                    Индекс 1 <= 2.0\n",
      "                    --> True:\n",
      "                      Прогноз: 52.46666666666667\n",
      "                    --> False:\n",
      "                      Прогноз: 53.51851851851852\n",
      "                  --> False:\n",
      "                    Прогноз: 56.833333333333336\n",
      "                --> False:\n",
      "                  Прогноз: 54.35294117647059\n",
      "          --> False:\n",
      "            Индекс 5 <= 0.0\n",
      "            --> True:\n",
      "              Индекс 6 <= 1.0\n",
      "              --> True:\n",
      "                Индекс 1 <= 5.0\n",
      "                --> True:\n",
      "                  Индекс 1 <= 4.0\n",
      "                  --> True:\n",
      "                    Прогноз: 56.111111111111114\n",
      "                  --> False:\n",
      "                    Прогноз: 50.77777777777778\n",
      "                --> False:\n",
      "                  Прогноз: 53.214285714285715\n",
      "              --> False:\n",
      "                Прогноз: 57.6\n",
      "            --> False:\n",
      "              Прогноз: 62.833333333333336\n",
      "        --> False:\n",
      "          Индекс 1 <= 1.0\n",
      "          --> True:\n",
      "            Индекс 4 <= 0.0\n",
      "            --> True:\n",
      "              Индекс 6 <= 3.0\n",
      "              --> True:\n",
      "                Индекс 5 <= 0.0\n",
      "                --> True:\n",
      "                  Индекс 1 <= 0.0\n",
      "                  --> True:\n",
      "                    Прогноз: 54.24817518248175\n",
      "                  --> False:\n",
      "                    Прогноз: 53.839080459770116\n",
      "                --> False:\n",
      "                  Индекс 1 <= 0.0\n",
      "                  --> True:\n",
      "                    Прогноз: 50.18181818181818\n",
      "                  --> False:\n",
      "                    Прогноз: 54.333333333333336\n",
      "              --> False:\n",
      "                Индекс 5 <= 0.0\n",
      "                --> True:\n",
      "                  Индекс 1 <= 0.0\n",
      "                  --> True:\n",
      "                    Прогноз: 52.609756097560975\n",
      "                  --> False:\n",
      "                    Прогноз: 52.752631578947366\n",
      "                --> False:\n",
      "                  Индекс 1 <= 0.0\n",
      "                  --> True:\n",
      "                    Прогноз: 55.52777777777778\n",
      "                  --> False:\n",
      "                    Прогноз: 51.68421052631579\n",
      "            --> False:\n",
      "              Индекс 5 <= 0.0\n",
      "              --> True:\n",
      "                Индекс 1 <= 0.0\n",
      "                --> True:\n",
      "                  Индекс 6 <= 3.0\n",
      "                  --> True:\n",
      "                    Прогноз: 57.625\n",
      "                  --> False:\n",
      "                    Прогноз: 54.951219512195124\n",
      "                --> False:\n",
      "                  Индекс 6 <= 3.0\n",
      "                  --> True:\n",
      "                    Прогноз: 55.285714285714285\n",
      "                  --> False:\n",
      "                    Прогноз: 54.76923076923077\n",
      "              --> False:\n",
      "                Индекс 1 <= 0.0\n",
      "                --> True:\n",
      "                  Прогноз: 51.333333333333336\n",
      "                --> False:\n",
      "                  Прогноз: 47.25\n",
      "          --> False:\n",
      "            Индекс 1 <= 4.0\n",
      "            --> True:\n",
      "              Индекс 6 <= 3.0\n",
      "              --> True:\n",
      "                Индекс 1 <= 3.0\n",
      "                --> True:\n",
      "                  Индекс 1 <= 2.0\n",
      "                  --> True:\n",
      "                    Индекс 5 <= 0.0\n",
      "                    --> True:\n",
      "                      Индекс 4 <= 0.0\n",
      "                      --> True:\n",
      "                        Прогноз: 52.404761904761905\n",
      "                      --> False:\n",
      "                        Прогноз: 49.916666666666664\n",
      "                    --> False:\n",
      "                      Прогноз: 54.3\n",
      "                  --> False:\n",
      "                    Индекс 5 <= 0.0\n",
      "                    --> True:\n",
      "                      Индекс 4 <= 0.0\n",
      "                      --> True:\n",
      "                        Прогноз: 52.94915254237288\n",
      "                      --> False:\n",
      "                        Прогноз: 51.27272727272727\n",
      "                    --> False:\n",
      "                      Прогноз: 55.833333333333336\n",
      "                --> False:\n",
      "                  Индекс 4 <= 0.0\n",
      "                  --> True:\n",
      "                    Прогноз: 51.97872340425532\n",
      "                  --> False:\n",
      "                    Прогноз: 49.714285714285715\n",
      "              --> False:\n",
      "                Индекс 4 <= 0.0\n",
      "                --> True:\n",
      "                  Индекс 1 <= 3.0\n",
      "                  --> True:\n",
      "                    Индекс 5 <= 0.0\n",
      "                    --> True:\n",
      "                      Индекс 1 <= 2.0\n",
      "                      --> True:\n",
      "                        Прогноз: 53.790055248618785\n",
      "                      --> False:\n",
      "                        Прогноз: 52.37777777777778\n",
      "                    --> False:\n",
      "                      Индекс 1 <= 2.0\n",
      "                      --> True:\n",
      "                        Прогноз: 52.11538461538461\n",
      "                      --> False:\n",
      "                        Прогноз: 54.92857142857143\n",
      "                  --> False:\n",
      "                    Индекс 5 <= 0.0\n",
      "                    --> True:\n",
      "                      Прогноз: 52.274193548387096\n",
      "                    --> False:\n",
      "                      Прогноз: 53.63636363636363\n",
      "                --> False:\n",
      "                  Индекс 5 <= 0.0\n",
      "                  --> True:\n",
      "                    Индекс 1 <= 3.0\n",
      "                    --> True:\n",
      "                      Индекс 1 <= 2.0\n",
      "                      --> True:\n",
      "                        Прогноз: 54.76190476190476\n",
      "                      --> False:\n",
      "                        Прогноз: 53.86666666666667\n",
      "                    --> False:\n",
      "                      Прогноз: 49.285714285714285\n",
      "                  --> False:\n",
      "                    Прогноз: 49.75\n",
      "            --> False:\n",
      "              Индекс 4 <= 0.0\n",
      "              --> True:\n",
      "                Индекс 1 <= 6.0\n",
      "                --> True:\n",
      "                  Индекс 6 <= 3.0\n",
      "                  --> True:\n",
      "                    Индекс 1 <= 5.0\n",
      "                    --> True:\n",
      "                      Прогноз: 47.8421052631579\n",
      "                    --> False:\n",
      "                      Прогноз: 59.57142857142857\n",
      "                  --> False:\n",
      "                    Индекс 5 <= 0.0\n",
      "                    --> True:\n",
      "                      Индекс 1 <= 5.0\n",
      "                      --> True:\n",
      "                        Прогноз: 51.75\n",
      "                      --> False:\n",
      "                        Прогноз: 58.625\n",
      "                    --> False:\n",
      "                      Прогноз: 51.90909090909091\n",
      "                --> False:\n",
      "                  Прогноз: 56.0\n",
      "              --> False:\n",
      "                Индекс 1 <= 5.0\n",
      "                --> True:\n",
      "                  Прогноз: 61.285714285714285\n",
      "                --> False:\n",
      "                  Прогноз: 54.166666666666664\n",
      "      --> False:\n",
      "        Индекс 6 <= 2.0\n",
      "        --> True:\n",
      "          Индекс 5 <= 0.0\n",
      "          --> True:\n",
      "            Индекс 1 <= 4.0\n",
      "            --> True:\n",
      "              Индекс 1 <= 2.0\n",
      "              --> True:\n",
      "                Индекс 1 <= 1.0\n",
      "                --> True:\n",
      "                  Индекс 1 <= 0.0\n",
      "                  --> True:\n",
      "                    Прогноз: 58.714285714285715\n",
      "                  --> False:\n",
      "                    Прогноз: 58.333333333333336\n",
      "                --> False:\n",
      "                  Индекс 6 <= 1.0\n",
      "                  --> True:\n",
      "                    Прогноз: 57.55555555555556\n",
      "                  --> False:\n",
      "                    Прогноз: 53.333333333333336\n",
      "              --> False:\n",
      "                Индекс 6 <= 1.0\n",
      "                --> True:\n",
      "                  Индекс 1 <= 3.0\n",
      "                  --> True:\n",
      "                    Прогноз: 59.857142857142854\n",
      "                  --> False:\n",
      "                    Прогноз: 56.94736842105263\n",
      "                --> False:\n",
      "                  Прогноз: 59.8\n",
      "            --> False:\n",
      "              Индекс 1 <= 5.0\n",
      "              --> True:\n",
      "                Прогноз: 56.2\n",
      "              --> False:\n",
      "                Прогноз: 59.142857142857146\n",
      "          --> False:\n",
      "            Прогноз: 60.18181818181818\n",
      "        --> False:\n",
      "          Индекс 1 <= 5.0\n",
      "          --> True:\n",
      "            Индекс 5 <= 0.0\n",
      "            --> True:\n",
      "              Индекс 1 <= 0.0\n",
      "              --> True:\n",
      "                Индекс 6 <= 3.0\n",
      "                --> True:\n",
      "                  Индекс 4 <= 0.0\n",
      "                  --> True:\n",
      "                    Прогноз: 57.30107526881721\n",
      "                  --> False:\n",
      "                    Прогноз: 55.81818181818182\n",
      "                --> False:\n",
      "                  Индекс 4 <= 0.0\n",
      "                  --> True:\n",
      "                    Прогноз: 57.554794520547944\n",
      "                  --> False:\n",
      "                    Прогноз: 58.82857142857143\n",
      "              --> False:\n",
      "                Индекс 4 <= 0.0\n",
      "                --> True:\n",
      "                  Индекс 1 <= 1.0\n",
      "                  --> True:\n",
      "                    Индекс 6 <= 3.0\n",
      "                    --> True:\n",
      "                      Прогноз: 56.333333333333336\n",
      "                    --> False:\n",
      "                      Прогноз: 58.64646464646464\n",
      "                  --> False:\n",
      "                    Индекс 1 <= 2.0\n",
      "                    --> True:\n",
      "                      Индекс 6 <= 3.0\n",
      "                      --> True:\n",
      "                        Прогноз: 59.43181818181818\n",
      "                      --> False:\n",
      "                        Прогноз: 59.148148148148145\n",
      "                    --> False:\n",
      "                      Индекс 6 <= 3.0\n",
      "                      --> True:\n",
      "                        Индекс 1 <= 4.0\n",
      "                        --> True:\n",
      "                          Индекс 1 <= 3.0\n",
      "                          --> True:\n",
      "                            Прогноз: 60.516129032258064\n",
      "                          --> False:\n",
      "                            Прогноз: 57.388888888888886\n",
      "                        --> False:\n",
      "                          Прогноз: 61.666666666666664\n",
      "                      --> False:\n",
      "                        Индекс 1 <= 4.0\n",
      "                        --> True:\n",
      "                          Индекс 1 <= 3.0\n",
      "                          --> True:\n",
      "                            Прогноз: 57.32203389830509\n",
      "                          --> False:\n",
      "                            Прогноз: 61.095238095238095\n",
      "                        --> False:\n",
      "                          Прогноз: 57.23529411764706\n",
      "                --> False:\n",
      "                  Индекс 1 <= 1.0\n",
      "                  --> True:\n",
      "                    Индекс 6 <= 3.0\n",
      "                    --> True:\n",
      "                      Прогноз: 55.57142857142857\n",
      "                    --> False:\n",
      "                      Прогноз: 60.333333333333336\n",
      "                  --> False:\n",
      "                    Индекс 6 <= 3.0\n",
      "                    --> True:\n",
      "                      Индекс 1 <= 3.0\n",
      "                      --> True:\n",
      "                        Индекс 1 <= 2.0\n",
      "                        --> True:\n",
      "                          Прогноз: 57.714285714285715\n",
      "                        --> False:\n",
      "                          Прогноз: 62.0\n",
      "                      --> False:\n",
      "                        Прогноз: 63.5\n",
      "                    --> False:\n",
      "                      Индекс 1 <= 2.0\n",
      "                      --> True:\n",
      "                        Прогноз: 56.80952380952381\n",
      "                      --> False:\n",
      "                        Индекс 1 <= 3.0\n",
      "                        --> True:\n",
      "                          Прогноз: 57.25\n",
      "                        --> False:\n",
      "                          Прогноз: 58.3\n",
      "            --> False:\n",
      "              Индекс 1 <= 4.0\n",
      "              --> True:\n",
      "                Индекс 1 <= 1.0\n",
      "                --> True:\n",
      "                  Индекс 6 <= 3.0\n",
      "                  --> True:\n",
      "                    Прогноз: 54.3\n",
      "                  --> False:\n",
      "                    Индекс 1 <= 0.0\n",
      "                    --> True:\n",
      "                      Прогноз: 61.375\n",
      "                    --> False:\n",
      "                      Прогноз: 63.5\n",
      "                --> False:\n",
      "                  Индекс 1 <= 2.0\n",
      "                  --> True:\n",
      "                    Индекс 6 <= 3.0\n",
      "                    --> True:\n",
      "                      Прогноз: 59.42857142857143\n",
      "                    --> False:\n",
      "                      Прогноз: 58.111111111111114\n",
      "                  --> False:\n",
      "                    Индекс 1 <= 3.0\n",
      "                    --> True:\n",
      "                      Индекс 6 <= 3.0\n",
      "                      --> True:\n",
      "                        Прогноз: 56.285714285714285\n",
      "                      --> False:\n",
      "                        Прогноз: 62.6\n",
      "                    --> False:\n",
      "                      Индекс 6 <= 3.0\n",
      "                      --> True:\n",
      "                        Прогноз: 64.8\n",
      "                      --> False:\n",
      "                        Прогноз: 59.5\n",
      "              --> False:\n",
      "                Прогноз: 56.0\n",
      "          --> False:\n",
      "            Индекс 1 <= 6.0\n",
      "            --> True:\n",
      "              Прогноз: 63.111111111111114\n",
      "            --> False:\n",
      "              Прогноз: 49.57142857142857\n",
      "    --> False:\n",
      "      Индекс 3 <= 0.0\n",
      "      --> True:\n",
      "        Индекс 6 <= 1.0\n",
      "        --> True:\n",
      "          Прогноз: 53.9\n",
      "        --> False:\n",
      "          Индекс 6 <= 3.0\n",
      "          --> True:\n",
      "            Индекс 1 <= 1.0\n",
      "            --> True:\n",
      "              Индекс 5 <= 0.0\n",
      "              --> True:\n",
      "                Индекс 1 <= 0.0\n",
      "                --> True:\n",
      "                  Индекс 4 <= 0.0\n",
      "                  --> True:\n",
      "                    Прогноз: 58.042857142857144\n",
      "                  --> False:\n",
      "                    Прогноз: 60.44444444444444\n",
      "                --> False:\n",
      "                  Индекс 4 <= 0.0\n",
      "                  --> True:\n",
      "                    Прогноз: 61.022222222222226\n",
      "                  --> False:\n",
      "                    Прогноз: 55.5\n",
      "              --> False:\n",
      "                Индекс 1 <= 0.0\n",
      "                --> True:\n",
      "                  Прогноз: 63.46153846153846\n",
      "                --> False:\n",
      "                  Прогноз: 66.2\n",
      "            --> False:\n",
      "              Индекс 6 <= 2.0\n",
      "              --> True:\n",
      "                Прогноз: 64.4\n",
      "              --> False:\n",
      "                Индекс 1 <= 4.0\n",
      "                --> True:\n",
      "                  Индекс 1 <= 3.0\n",
      "                  --> True:\n",
      "                    Индекс 5 <= 0.0\n",
      "                    --> True:\n",
      "                      Индекс 4 <= 0.0\n",
      "                      --> True:\n",
      "                        Индекс 1 <= 2.0\n",
      "                        --> True:\n",
      "                          Прогноз: 60.36842105263158\n",
      "                        --> False:\n",
      "                          Прогноз: 59.0\n",
      "                      --> False:\n",
      "                        Прогноз: 64.75\n",
      "                    --> False:\n",
      "                      Индекс 1 <= 2.0\n",
      "                      --> True:\n",
      "                        Прогноз: 63.6\n",
      "                      --> False:\n",
      "                        Прогноз: 63.0\n",
      "                  --> False:\n",
      "                    Прогноз: 62.04\n",
      "                --> False:\n",
      "                  Прогноз: 58.588235294117645\n",
      "          --> False:\n",
      "            Индекс 1 <= 5.0\n",
      "            --> True:\n",
      "              Индекс 4 <= 0.0\n",
      "              --> True:\n",
      "                Индекс 5 <= 0.0\n",
      "                --> True:\n",
      "                  Индекс 1 <= 0.0\n",
      "                  --> True:\n",
      "                    Прогноз: 58.06837606837607\n",
      "                  --> False:\n",
      "                    Индекс 1 <= 2.0\n",
      "                    --> True:\n",
      "                      Индекс 1 <= 1.0\n",
      "                      --> True:\n",
      "                        Прогноз: 60.58139534883721\n",
      "                      --> False:\n",
      "                        Прогноз: 59.258823529411764\n",
      "                    --> False:\n",
      "                      Индекс 1 <= 4.0\n",
      "                      --> True:\n",
      "                        Индекс 1 <= 3.0\n",
      "                        --> True:\n",
      "                          Прогноз: 61.25\n",
      "                        --> False:\n",
      "                          Прогноз: 60.3421052631579\n",
      "                      --> False:\n",
      "                        Прогноз: 59.42857142857143\n",
      "                --> False:\n",
      "                  Индекс 1 <= 3.0\n",
      "                  --> True:\n",
      "                    Индекс 1 <= 2.0\n",
      "                    --> True:\n",
      "                      Индекс 1 <= 1.0\n",
      "                      --> True:\n",
      "                        Индекс 1 <= 0.0\n",
      "                        --> True:\n",
      "                          Прогноз: 62.875\n",
      "                        --> False:\n",
      "                          Прогноз: 65.44444444444444\n",
      "                      --> False:\n",
      "                        Прогноз: 66.0\n",
      "                    --> False:\n",
      "                      Прогноз: 62.6\n",
      "                  --> False:\n",
      "                    Прогноз: 61.81818181818182\n",
      "              --> False:\n",
      "                Индекс 5 <= 0.0\n",
      "                --> True:\n",
      "                  Индекс 1 <= 3.0\n",
      "                  --> True:\n",
      "                    Индекс 1 <= 1.0\n",
      "                    --> True:\n",
      "                      Индекс 1 <= 0.0\n",
      "                      --> True:\n",
      "                        Прогноз: 60.266666666666666\n",
      "                      --> False:\n",
      "                        Прогноз: 56.89473684210526\n",
      "                    --> False:\n",
      "                      Индекс 1 <= 2.0\n",
      "                      --> True:\n",
      "                        Прогноз: 61.3125\n",
      "                      --> False:\n",
      "                        Прогноз: 57.857142857142854\n",
      "                  --> False:\n",
      "                    Прогноз: 64.8\n",
      "                --> False:\n",
      "                  Прогноз: 57.54545454545455\n",
      "            --> False:\n",
      "              Индекс 4 <= 0.0\n",
      "              --> True:\n",
      "                Прогноз: 58.625\n",
      "              --> False:\n",
      "                Прогноз: 59.2\n",
      "      --> False:\n",
      "        Индекс 1 <= 2.0\n",
      "        --> True:\n",
      "          Индекс 4 <= 0.0\n",
      "          --> True:\n",
      "            Индекс 6 <= 2.0\n",
      "            --> True:\n",
      "              Прогноз: 60.77777777777778\n",
      "            --> False:\n",
      "              Индекс 1 <= 0.0\n",
      "              --> True:\n",
      "                Индекс 5 <= 0.0\n",
      "                --> True:\n",
      "                  Индекс 6 <= 3.0\n",
      "                  --> True:\n",
      "                    Прогноз: 64.0\n",
      "                  --> False:\n",
      "                    Прогноз: 62.71830985915493\n",
      "                --> False:\n",
      "                  Индекс 6 <= 3.0\n",
      "                  --> True:\n",
      "                    Прогноз: 67.875\n",
      "                  --> False:\n",
      "                    Прогноз: 71.5\n",
      "              --> False:\n",
      "                Индекс 6 <= 3.0\n",
      "                --> True:\n",
      "                  Индекс 1 <= 1.0\n",
      "                  --> True:\n",
      "                    Прогноз: 64.72222222222223\n",
      "                  --> False:\n",
      "                    Прогноз: 67.23684210526316\n",
      "                --> False:\n",
      "                  Индекс 5 <= 0.0\n",
      "                  --> True:\n",
      "                    Индекс 1 <= 1.0\n",
      "                    --> True:\n",
      "                      Прогноз: 63.03921568627451\n",
      "                    --> False:\n",
      "                      Прогноз: 66.75\n",
      "                  --> False:\n",
      "                    Прогноз: 67.125\n",
      "          --> False:\n",
      "            Индекс 1 <= 1.0\n",
      "            --> True:\n",
      "              Индекс 6 <= 3.0\n",
      "              --> True:\n",
      "                Индекс 1 <= 0.0\n",
      "                --> True:\n",
      "                  Прогноз: 62.0\n",
      "                --> False:\n",
      "                  Прогноз: 64.6\n",
      "              --> False:\n",
      "                Прогноз: 64.28571428571429\n",
      "            --> False:\n",
      "              Прогноз: 64.625\n",
      "        --> False:\n",
      "          Индекс 5 <= 0.0\n",
      "          --> True:\n",
      "            Индекс 6 <= 1.0\n",
      "            --> True:\n",
      "              Прогноз: 57.5\n",
      "            --> False:\n",
      "              Индекс 4 <= 0.0\n",
      "              --> True:\n",
      "                Индекс 6 <= 3.0\n",
      "                --> True:\n",
      "                  Индекс 1 <= 3.0\n",
      "                  --> True:\n",
      "                    Прогноз: 65.41379310344827\n",
      "                  --> False:\n",
      "                    Индекс 1 <= 4.0\n",
      "                    --> True:\n",
      "                      Прогноз: 67.4\n",
      "                    --> False:\n",
      "                      Прогноз: 66.28571428571429\n",
      "                --> False:\n",
      "                  Индекс 1 <= 3.0\n",
      "                  --> True:\n",
      "                    Прогноз: 64.86046511627907\n",
      "                  --> False:\n",
      "                    Индекс 1 <= 4.0\n",
      "                    --> True:\n",
      "                      Прогноз: 66.41666666666667\n",
      "                    --> False:\n",
      "                      Прогноз: 66.63636363636364\n",
      "              --> False:\n",
      "                Индекс 1 <= 3.0\n",
      "                --> True:\n",
      "                  Прогноз: 64.25\n",
      "                --> False:\n",
      "                  Прогноз: 69.71428571428571\n",
      "          --> False:\n",
      "            Индекс 6 <= 3.0\n",
      "            --> True:\n",
      "              Прогноз: 67.57142857142857\n",
      "            --> False:\n",
      "              Прогноз: 61.0\n",
      "  --> False:\n",
      "    Индекс 3 <= 0.0\n",
      "    --> True:\n",
      "      Индекс 1 <= 6.0\n",
      "      --> True:\n",
      "        Индекс 1 <= 3.0\n",
      "        --> True:\n",
      "          Индекс 5 <= 0.0\n",
      "          --> True:\n",
      "            Индекс 4 <= 0.0\n",
      "            --> True:\n",
      "              Индекс 1 <= 0.0\n",
      "              --> True:\n",
      "                Прогноз: 70.144578313253\n",
      "              --> False:\n",
      "                Индекс 1 <= 2.0\n",
      "                --> True:\n",
      "                  Индекс 1 <= 1.0\n",
      "                  --> True:\n",
      "                    Прогноз: 71.32075471698113\n",
      "                  --> False:\n",
      "                    Прогноз: 71.54838709677419\n",
      "                --> False:\n",
      "                  Прогноз: 70.3\n",
      "            --> False:\n",
      "              Индекс 1 <= 0.0\n",
      "              --> True:\n",
      "                Прогноз: 69.92307692307692\n",
      "              --> False:\n",
      "                Индекс 1 <= 2.0\n",
      "                --> True:\n",
      "                  Индекс 1 <= 1.0\n",
      "                  --> True:\n",
      "                    Прогноз: 67.0\n",
      "                  --> False:\n",
      "                    Прогноз: 67.88888888888889\n",
      "                --> False:\n",
      "                  Прогноз: 69.6\n",
      "          --> False:\n",
      "            Индекс 1 <= 0.0\n",
      "            --> True:\n",
      "              Прогноз: 71.76923076923077\n",
      "            --> False:\n",
      "              Прогноз: 76.125\n",
      "        --> False:\n",
      "          Индекс 4 <= 0.0\n",
      "          --> True:\n",
      "            Индекс 2 <= 1.0\n",
      "            --> True:\n",
      "              Прогноз: 62.833333333333336\n",
      "            --> False:\n",
      "              Индекс 1 <= 5.0\n",
      "              --> True:\n",
      "                Индекс 1 <= 4.0\n",
      "                --> True:\n",
      "                  Прогноз: 70.78947368421052\n",
      "                --> False:\n",
      "                  Прогноз: 68.29411764705883\n",
      "              --> False:\n",
      "                Прогноз: 71.6\n",
      "          --> False:\n",
      "            Прогноз: 64.0\n",
      "      --> False:\n",
      "        Прогноз: 60.6\n",
      "    --> False:\n",
      "      Индекс 1 <= 4.0\n",
      "      --> True:\n",
      "        Индекс 4 <= 0.0\n",
      "        --> True:\n",
      "          Индекс 1 <= 2.0\n",
      "          --> True:\n",
      "            Индекс 1 <= 1.0\n",
      "            --> True:\n",
      "              Индекс 1 <= 0.0\n",
      "              --> True:\n",
      "                Индекс 5 <= 0.0\n",
      "                --> True:\n",
      "                  Прогноз: 73.02325581395348\n",
      "                --> False:\n",
      "                  Прогноз: 76.33333333333333\n",
      "              --> False:\n",
      "                Прогноз: 74.41379310344827\n",
      "            --> False:\n",
      "              Прогноз: 76.36842105263158\n",
      "          --> False:\n",
      "            Индекс 1 <= 3.0\n",
      "            --> True:\n",
      "              Прогноз: 73.0\n",
      "            --> False:\n",
      "              Индекс 5 <= 0.0\n",
      "              --> True:\n",
      "                Прогноз: 73.6\n",
      "              --> False:\n",
      "                Прогноз: 78.6\n",
      "        --> False:\n",
      "          Индекс 1 <= 2.0\n",
      "          --> True:\n",
      "            Индекс 1 <= 0.0\n",
      "            --> True:\n",
      "              Прогноз: 75.14285714285714\n",
      "            --> False:\n",
      "              Прогноз: 71.75\n",
      "          --> False:\n",
      "            Прогноз: 79.6\n",
      "      --> False:\n",
      "        Индекс 2 <= 1.0\n",
      "        --> True:\n",
      "          Прогноз: 64.6\n",
      "        --> False:\n",
      "          Индекс 1 <= 5.0\n",
      "          --> True:\n",
      "            Прогноз: 68.4\n",
      "          --> False:\n",
      "            Прогноз: 76.625\n",
      "--> False:\n",
      "  Индекс 3 <= 0.0\n",
      "  --> True:\n",
      "    Индекс 1 <= 3.0\n",
      "    --> True:\n",
      "      Индекс 6 <= 4.0\n",
      "      --> True:\n",
      "        Индекс 5 <= 0.0\n",
      "        --> True:\n",
      "          Индекс 1 <= 0.0\n",
      "          --> True:\n",
      "            Прогноз: 70.5\n",
      "          --> False:\n",
      "            Индекс 4 <= 0.0\n",
      "            --> True:\n",
      "              Индекс 6 <= 3.0\n",
      "              --> True:\n",
      "                Индекс 1 <= 1.0\n",
      "                --> True:\n",
      "                  Прогноз: 77.5\n",
      "                --> False:\n",
      "                  Индекс 1 <= 2.0\n",
      "                  --> True:\n",
      "                    Прогноз: 81.75\n",
      "                  --> False:\n",
      "                    Прогноз: 76.75\n",
      "              --> False:\n",
      "                Индекс 1 <= 2.0\n",
      "                --> True:\n",
      "                  Индекс 1 <= 1.0\n",
      "                  --> True:\n",
      "                    Прогноз: 70.77777777777777\n",
      "                  --> False:\n",
      "                    Прогноз: 72.9090909090909\n",
      "                --> False:\n",
      "                  Прогноз: 77.36363636363636\n",
      "            --> False:\n",
      "              Прогноз: 67.14285714285714\n",
      "        --> False:\n",
      "          Индекс 6 <= 3.0\n",
      "          --> True:\n",
      "            Прогноз: 78.4\n",
      "          --> False:\n",
      "            Прогноз: 67.2\n",
      "      --> False:\n",
      "        Индекс 1 <= 0.0\n",
      "        --> True:\n",
      "          Индекс 5 <= 0.0\n",
      "          --> True:\n",
      "            Индекс 4 <= 0.0\n",
      "            --> True:\n",
      "              Прогноз: 78.04395604395604\n",
      "            --> False:\n",
      "              Прогноз: 81.88888888888889\n",
      "          --> False:\n",
      "            Прогноз: 80.05555555555556\n",
      "        --> False:\n",
      "          Индекс 4 <= 0.0\n",
      "          --> True:\n",
      "            Индекс 5 <= 0.0\n",
      "            --> True:\n",
      "              Индекс 1 <= 2.0\n",
      "              --> True:\n",
      "                Индекс 1 <= 1.0\n",
      "                --> True:\n",
      "                  Прогноз: 80.65957446808511\n",
      "                --> False:\n",
      "                  Прогноз: 81.22222222222223\n",
      "              --> False:\n",
      "                Прогноз: 81.65217391304348\n",
      "            --> False:\n",
      "              Индекс 1 <= 2.0\n",
      "              --> True:\n",
      "                Индекс 1 <= 1.0\n",
      "                --> True:\n",
      "                  Прогноз: 84.625\n",
      "                --> False:\n",
      "                  Прогноз: 81.625\n",
      "              --> False:\n",
      "                Прогноз: 83.1\n",
      "          --> False:\n",
      "            Индекс 1 <= 1.0\n",
      "            --> True:\n",
      "              Прогноз: 82.93333333333334\n",
      "            --> False:\n",
      "              Индекс 1 <= 2.0\n",
      "              --> True:\n",
      "                Прогноз: 82.2\n",
      "              --> False:\n",
      "                Прогноз: 85.0\n",
      "    --> False:\n",
      "      Индекс 5 <= 0.0\n",
      "      --> True:\n",
      "        Индекс 6 <= 3.0\n",
      "        --> True:\n",
      "          Индекс 1 <= 4.0\n",
      "          --> True:\n",
      "            Прогноз: 84.8\n",
      "          --> False:\n",
      "            Прогноз: 80.3\n",
      "        --> False:\n",
      "          Индекс 6 <= 4.0\n",
      "          --> True:\n",
      "            Индекс 1 <= 4.0\n",
      "            --> True:\n",
      "              Прогноз: 83.0\n",
      "            --> False:\n",
      "              Прогноз: 76.5\n",
      "          --> False:\n",
      "            Индекс 1 <= 4.0\n",
      "            --> True:\n",
      "              Индекс 4 <= 0.0\n",
      "              --> True:\n",
      "                Прогноз: 83.31858407079646\n",
      "              --> False:\n",
      "                Прогноз: 81.72222222222223\n",
      "            --> False:\n",
      "              Индекс 4 <= 0.0\n",
      "              --> True:\n",
      "                Индекс 1 <= 6.0\n",
      "                --> True:\n",
      "                  Индекс 1 <= 5.0\n",
      "                  --> True:\n",
      "                    Прогноз: 83.82758620689656\n",
      "                  --> False:\n",
      "                    Прогноз: 83.77777777777777\n",
      "                --> False:\n",
      "                  Прогноз: 82.625\n",
      "              --> False:\n",
      "                Индекс 1 <= 5.0\n",
      "                --> True:\n",
      "                  Прогноз: 80.33333333333333\n",
      "                --> False:\n",
      "                  Прогноз: 87.92307692307692\n",
      "      --> False:\n",
      "        Индекс 4 <= 0.0\n",
      "        --> True:\n",
      "          Индекс 1 <= 4.0\n",
      "          --> True:\n",
      "            Прогноз: 88.57142857142857\n",
      "          --> False:\n",
      "            Индекс 1 <= 5.0\n",
      "            --> True:\n",
      "              Прогноз: 86.77777777777777\n",
      "            --> False:\n",
      "              Прогноз: 84.16666666666667\n",
      "        --> False:\n",
      "          Прогноз: 85.6\n",
      "  --> False:\n",
      "    Индекс 1 <= 3.0\n",
      "    --> True:\n",
      "      Индекс 1 <= 2.0\n",
      "      --> True:\n",
      "        Индекс 1 <= 0.0\n",
      "        --> True:\n",
      "          Индекс 5 <= 0.0\n",
      "          --> True:\n",
      "            Индекс 4 <= 0.0\n",
      "            --> True:\n",
      "              Индекс 6 <= 4.0\n",
      "              --> True:\n",
      "                Прогноз: 78.875\n",
      "              --> False:\n",
      "                Прогноз: 84.52459016393442\n",
      "            --> False:\n",
      "              Прогноз: 84.0\n",
      "          --> False:\n",
      "            Прогноз: 81.73333333333333\n",
      "        --> False:\n",
      "          Индекс 6 <= 4.0\n",
      "          --> True:\n",
      "            Индекс 1 <= 1.0\n",
      "            --> True:\n",
      "              Прогноз: 81.0\n",
      "            --> False:\n",
      "              Индекс 6 <= 3.0\n",
      "              --> True:\n",
      "                Прогноз: 81.57142857142857\n",
      "              --> False:\n",
      "                Прогноз: 79.3076923076923\n",
      "          --> False:\n",
      "            Индекс 4 <= 0.0\n",
      "            --> True:\n",
      "              Индекс 1 <= 1.0\n",
      "              --> True:\n",
      "                Прогноз: 84.8\n",
      "              --> False:\n",
      "                Прогноз: 87.0\n",
      "            --> False:\n",
      "              Прогноз: 86.22222222222223\n",
      "      --> False:\n",
      "        Индекс 5 <= 0.0\n",
      "        --> True:\n",
      "          Индекс 6 <= 4.0\n",
      "          --> True:\n",
      "            Прогноз: 73.77777777777777\n",
      "          --> False:\n",
      "            Индекс 4 <= 0.0\n",
      "            --> True:\n",
      "              Прогноз: 87.19148936170212\n",
      "            --> False:\n",
      "              Прогноз: 86.25\n",
      "        --> False:\n",
      "          Прогноз: 83.14285714285714\n",
      "    --> False:\n",
      "      Индекс 5 <= 0.0\n",
      "      --> True:\n",
      "        Индекс 1 <= 4.0\n",
      "        --> True:\n",
      "          Индекс 4 <= 0.0\n",
      "          --> True:\n",
      "            Индекс 6 <= 4.0\n",
      "            --> True:\n",
      "              Прогноз: 82.3\n",
      "            --> False:\n",
      "              Прогноз: 87.25757575757575\n",
      "          --> False:\n",
      "            Прогноз: 84.16666666666667\n",
      "        --> False:\n",
      "          Индекс 1 <= 6.0\n",
      "          --> True:\n",
      "            Индекс 6 <= 4.0\n",
      "            --> True:\n",
      "              Индекс 1 <= 5.0\n",
      "              --> True:\n",
      "                Прогноз: 87.625\n",
      "              --> False:\n",
      "                Прогноз: 84.66666666666667\n",
      "            --> False:\n",
      "              Индекс 4 <= 0.0\n",
      "              --> True:\n",
      "                Индекс 1 <= 5.0\n",
      "                --> True:\n",
      "                  Прогноз: 89.825\n",
      "                --> False:\n",
      "                  Прогноз: 89.45\n",
      "              --> False:\n",
      "                Индекс 1 <= 5.0\n",
      "                --> True:\n",
      "                  Прогноз: 87.2\n",
      "                --> False:\n",
      "                  Прогноз: 88.0\n",
      "          --> False:\n",
      "            Прогноз: 85.54545454545455\n",
      "      --> False:\n",
      "        Индекс 1 <= 4.0\n",
      "        --> True:\n",
      "          Прогноз: 89.2\n",
      "        --> False:\n",
      "          Прогноз: 90.66666666666667\n"
     ]
    }
   ],
   "source": [
    "# Построим дерево по обучающей выборке\n",
    "my_tree = build_tree_tree(np.array(X_train), np.array(y_train))\n",
    "print_tree(my_tree)"
   ]
  },
  {
   "cell_type": "code",
   "execution_count": 66,
   "metadata": {},
   "outputs": [],
   "source": [
    "train_answers = predict(np.array(X_train), my_tree)"
   ]
  },
  {
   "cell_type": "code",
   "execution_count": 67,
   "metadata": {},
   "outputs": [
    {
     "name": "stdout",
     "output_type": "stream",
     "text": [
      "R2:\t0.59\n",
      "RMSE:\t9.384\n",
      "MSE:\t88.051\n"
     ]
    },
    {
     "data": {
      "image/png": "[encoded data removed]",
      "text/plain": [
       "<Figure size 360x360 with 1 Axes>"
      ]
     },
     "metadata": {},
     "output_type": "display_data"
    },
    {
     "data": {
      "text/plain": [
       "(0.59, 88.051)"
      ]
     },
     "execution_count": 67,
     "metadata": {},
     "output_type": "execute_result"
    }
   ],
   "source": [
    "evaluate_preds(y_train, train_answers)"
   ]
  },
  {
   "cell_type": "code",
   "execution_count": null,
   "metadata": {},
   "outputs": [],
   "source": []
  },
  {
   "cell_type": "code",
   "execution_count": 68,
   "metadata": {
    "scrolled": true
   },
   "outputs": [],
   "source": [
    "results_all['tree'] = [round(r_2(y_train, train_answers), 3), round(calc_mse(y_train, train_answers), 3)]"
   ]
  },
  {
   "cell_type": "markdown",
   "metadata": {},
   "source": [
    "## 4.6 Градиентный бустинг (XGBoost)<a class='anchor' id='model_gradbust'>"
   ]
  },
  {
   "cell_type": "code",
   "execution_count": 69,
   "metadata": {},
   "outputs": [],
   "source": [
    "class Leaf_clsf:\n",
    "    \n",
    "    def __init__(self, data, labels):\n",
    "        self.data = data\n",
    "        self.labels = labels\n",
    "        self.prediction = self.predict()\n",
    "        \n",
    "    def predict(self):\n",
    "        # подсчет количества объектов разных классов\n",
    "        classes = {}  # сформируем словарь \"класс: количество объектов\"\n",
    "        for label in self.labels:\n",
    "            if label not in classes:\n",
    "                classes[label] = 0\n",
    "            classes[label] += 1\n",
    "            \n",
    "        # найдем класс, количество объектов которого будет максимальным в этом листе и вернем его    \n",
    "        prediction = max(classes, key=classes.get)\n",
    "        return prediction        \n",
    "    \n",
    "\n",
    "class Leaf_regr:\n",
    "    \n",
    "    def __init__(self, data, targets):\n",
    "        self.data = data\n",
    "        self.targets = targets\n",
    "        self.prediction = self.predict()\n",
    "        \n",
    "    def predict(self):\n",
    "        return self.targets.mean()"
   ]
  },
  {
   "cell_type": "code",
   "execution_count": 70,
   "metadata": {},
   "outputs": [],
   "source": [
    "class BaseTree:\n",
    "\n",
    "    def __init__(self,\n",
    "                 max_depth,\n",
    "                 max_leaf_nodes,\n",
    "                 min_leaf_samples,\n",
    "                 leaf_class):\n",
    "        self.max_depth = max_depth\n",
    "        self.nodes = []\n",
    "        self.leaves = []\n",
    "        self.depth = 0\n",
    "        self.max_leaves = max_leaf_nodes\n",
    "        self.min_objects = min_leaf_samples\n",
    "        self.tree = None\n",
    "        self.Leaf = leaf_class\n",
    "        \n",
    "    # Разбиение датасета в узле\n",
    "    def split(self,\n",
    "              data,\n",
    "              labels,\n",
    "              column_index,\n",
    "              t):\n",
    "\n",
    "        left = np.where(data[:, column_index] <= t)\n",
    "        right = np.where(data[:, column_index] > t)\n",
    "\n",
    "        true_data = data[left]\n",
    "        false_data = data[right]\n",
    "\n",
    "        true_labels = labels[left]\n",
    "        false_labels = labels[right]\n",
    "\n",
    "        return true_data, false_data, true_labels, false_labels\n",
    "    \n",
    "    # Расчет прироста\n",
    "    def gain(self,\n",
    "             left_labels,\n",
    "             right_labels,\n",
    "             root):\n",
    "\n",
    "        # доля выборки, ушедшая в левое поддерево\n",
    "        p = float(left_labels.shape[0]) / (left_labels.shape[0] + right_labels.shape[0])\n",
    "\n",
    "        return root - p * self.criterion(left_labels) - (1 - p) * self.criterion(right_labels)   \n",
    "    \n",
    "    # Нахождение наилучшего разбиения\n",
    "    def find_best_split(self,\n",
    "                        data,\n",
    "                        labels):\n",
    "\n",
    "        #  обозначим минимальное количество объектов в узле\n",
    "        min_samples_leaf = 5\n",
    "\n",
    "        root = self.criterion(labels)\n",
    "\n",
    "        best_gain = 0\n",
    "        best_t = None\n",
    "        best_index = None\n",
    "\n",
    "        n_features = data.shape[1]\n",
    "\n",
    "        for index in range(n_features):\n",
    "            # будем проверять только уникальные значения признака, исключая повторения\n",
    "            t_values = np.unique(data[:, index])\n",
    "\n",
    "            for t in t_values:\n",
    "                true_data, false_data, true_labels, false_labels = self.split(data, labels, index, t)\n",
    "                #  пропускаем разбиения, в которых в узле остается менее 5 объектов\n",
    "                if len(true_data) < min_samples_leaf or len(false_data) < min_samples_leaf:\n",
    "                    continue\n",
    "\n",
    "                current_gain = self.gain(true_labels, false_labels, root)\n",
    "\n",
    "                #  выбираем порог, на котором получается максимальный прирост качества\n",
    "                if current_gain > best_gain:\n",
    "                    best_gain, best_t, best_index = current_gain, t, index\n",
    "\n",
    "        return best_gain, best_t, best_index\n",
    "    \n",
    "    # Построение дерева с помощью рекурсивной функции\n",
    "    def build_tree(self,\n",
    "                   data,\n",
    "                   labels):\n",
    "\n",
    "        gain, t, index = self.find_best_split(data, labels)\n",
    "         \n",
    "        #  Базовый случай 2 - прекращаем рекурсию, когда достигли максимальной глубины дерева\n",
    "        if self.depth > self.max_depth:\n",
    "            self.leaves.append(self.Leaf(data, labels))\n",
    "            return self.Leaf(data, labels)\n",
    "        \n",
    "        #  Базовый случай 3 - прекращаем рекурсию, когда достигли максимального количества листьев\n",
    "        if len(self.leaves) >= self.max_leaves - 1 or self.depth >= self.max_leaves - 1:\n",
    "            self.leaves.append(self.Leaf(data, labels))\n",
    "            return self.Leaf(data, labels)\n",
    "        \n",
    "        #  Базовый случай 4 - прекращаем рекурсию, когда достигли минимального количества объектов в листе\n",
    "        if len(data) <= self.min_objects:\n",
    "            self.leaves.append(self.Leaf(data, labels))\n",
    "            return self.Leaf(data, labels)\n",
    "        \n",
    "         #  Базовый случай 1 - прекращаем рекурсию, когда нет прироста в качества\n",
    "        if gain == 0:\n",
    "            self.leaves.append(self.Leaf(data, labels))\n",
    "            return self.Leaf(data, labels)\n",
    "\n",
    "        self.depth += 1\n",
    "        \n",
    "        true_data, false_data, true_labels, false_labels = self.split(data, labels, index, t)\n",
    "\n",
    "        # Рекурсивно строим два поддерева\n",
    "        true_branch = self.build_tree(true_data, true_labels)\n",
    "        false_branch = self.build_tree(false_data, false_labels)\n",
    "\n",
    "        # Возвращаем класс узла со всеми поддеревьями, то есть целого дерева\n",
    "        self.nodes.append(Node(index, t, true_branch, false_branch))\n",
    "        return Node(index, t, true_branch, false_branch)\n",
    "    \n",
    "    def predict_object(self,\n",
    "                       obj,\n",
    "                       node):\n",
    "\n",
    "        #  Останавливаем рекурсию, если достигли листа\n",
    "        if isinstance(node, self.Leaf):\n",
    "            answer = node.prediction\n",
    "            return answer\n",
    "\n",
    "        if obj[node.index] <= node.t:\n",
    "            return self.predict_object(obj, node.true_branch)\n",
    "        else:\n",
    "            return self.predict_object(obj, node.false_branch)\n",
    "    \n",
    "    def fit(self, data, labels):\n",
    "        self.tree = self.build_tree(data, labels)\n",
    "        return self\n",
    "    \n",
    "    def predict(self, data):\n",
    "    \n",
    "        classes = []\n",
    "        for obj in data:\n",
    "            prediction = self.predict_object(obj, self.tree)\n",
    "            classes.append(prediction)\n",
    "        return classes"
   ]
  },
  {
   "cell_type": "code",
   "execution_count": 71,
   "metadata": {},
   "outputs": [],
   "source": [
    "class Classification_Tree(BaseTree):\n",
    "    def __init__(self,\n",
    "                 max_depth=np.inf,\n",
    "                 max_leaf_nodes=np.inf,\n",
    "                 min_leaf_samples=1,\n",
    "                 leaf_class=Leaf_clsf):\n",
    "        super().__init__(max_depth=max_depth,\n",
    "                         max_leaf_nodes=max_leaf_nodes,\n",
    "                         min_leaf_samples=min_leaf_samples,\n",
    "                         leaf_class=Leaf_clsf)\n",
    "\n",
    "    # Расчет критерия Джини\n",
    "    def criterion(self,\n",
    "                  labels):\n",
    "        #  подсчет количества объектов разных классов\n",
    "        classes = {}\n",
    "        for label in labels:\n",
    "            if label not in classes:\n",
    "                classes[label] = 0\n",
    "            classes[label] += 1\n",
    "\n",
    "        #  расчет критерия\n",
    "        impurity = 1\n",
    "        for label in classes:\n",
    "            p = classes[label] / len(labels)\n",
    "            impurity -= p ** 2\n",
    "\n",
    "        return impurity"
   ]
  },
  {
   "cell_type": "code",
   "execution_count": 72,
   "metadata": {},
   "outputs": [],
   "source": [
    "class Regression_Tree(BaseTree):\n",
    "    def __init__(self,\n",
    "                 max_depth=np.inf,\n",
    "                 max_leaf_nodes=np.inf,\n",
    "                 min_leaf_samples=1,\n",
    "                 leaf_class=Leaf_regr):\n",
    "        super().__init__(max_depth=max_depth,\n",
    "                         max_leaf_nodes=max_leaf_nodes,\n",
    "                         min_leaf_samples=min_leaf_samples,\n",
    "                         leaf_class=Leaf_regr)\n",
    "\n",
    "    # Расчет дисперсии\n",
    "    def criterion(self, targets):\n",
    "        return np.mean((targets - targets.mean())**2)"
   ]
  },
  {
   "cell_type": "code",
   "execution_count": null,
   "metadata": {},
   "outputs": [],
   "source": []
  },
  {
   "cell_type": "code",
   "execution_count": 73,
   "metadata": {},
   "outputs": [],
   "source": [
    "def gb_predict(X, trees_list, eta):\n",
    "    # Реализуемый алгоритм градиентного бустинга будет инициализироваться нулевыми значениями,\n",
    "    # поэтому все деревья из списка trees_list уже являются дополнительными и при предсказании\n",
    "    # прибавляются с шагом eta\n",
    "    \n",
    "#     predictions = np.zeros(X.shape[0])\n",
    "#     for i, x in enumerate(X):\n",
    "#         prediction = 0\n",
    "#         for alg in trees_list:\n",
    "#             prediction += eta * alg.predict([x])[0]\n",
    "#         predictions[i] = prediction\n",
    "        \n",
    "    predictions = np.array(\n",
    "        [sum([eta * alg.predict([x])[0] for alg in trees_list]) for x in X]\n",
    "    )\n",
    "\n",
    "    return predictions"
   ]
  },
  {
   "cell_type": "code",
   "execution_count": 74,
   "metadata": {},
   "outputs": [],
   "source": [
    "def mean_squared_error(y_real, prediction):\n",
    "    return (sum((y_real - prediction)**2)) / len(y_real)"
   ]
  },
  {
   "cell_type": "code",
   "execution_count": 75,
   "metadata": {},
   "outputs": [],
   "source": [
    "def residual(y, z):\n",
    "    return - (z - y)"
   ]
  },
  {
   "cell_type": "code",
   "execution_count": 76,
   "metadata": {},
   "outputs": [],
   "source": [
    "def gb_fit(n_trees, max_depth, X_train, X_test, y_train, y_test, eta):\n",
    "    \n",
    "    # Деревья будем записывать в список\n",
    "    trees = []\n",
    "    \n",
    "    # Будем записывать ошибки на обучающей и тестовой выборке на каждой итерации в список\n",
    "    train_errors = []\n",
    "    test_errors = []\n",
    "    \n",
    "    for i in range(n_trees):\n",
    "        tree = Classification_Tree(max_depth=5)\n",
    "\n",
    "        # первый алгоритм просто обучаем на выборке и добавляем в список\n",
    "        if len(trees) == 0:\n",
    "            # обучаем первое дерево на обучающей выборке\n",
    "            tree.fit(np.array(X_train), np.array(y_train))\n",
    "            \n",
    "            train_errors.append(mean_squared_error(np.array(y_train), gb_predict(np.array(X_train), trees, eta)))\n",
    "            test_errors.append(mean_squared_error(np.array(y_test), gb_predict(np.array(X_test), trees, eta)))\n",
    "        else:\n",
    "            # Получим ответы на текущей композиции\n",
    "            target = gb_predict(np.array(X_train), trees, eta)\n",
    "            \n",
    "            # алгоритмы начиная со второго обучаем на сдвиг\n",
    "            tree.fit(np.array(X_train), residual(np.array(y_train), target))\n",
    "            \n",
    "            train_errors.append(mean_squared_error(np.array(y_train), gb_predict(np.array(X_train), trees, eta)))\n",
    "            test_errors.append(mean_squared_error(np.array(y_test), gb_predict(np.array(X_test), trees, eta)))\n",
    "\n",
    "        trees.append(tree)\n",
    "        \n",
    "    return trees, train_errors, test_errors, target"
   ]
  },
  {
   "cell_type": "code",
   "execution_count": 77,
   "metadata": {},
   "outputs": [],
   "source": [
    "# Число деревьев в ансамбле\n",
    "n_trees = 10\n",
    "\n",
    "# Максимальная глубина деревьев\n",
    "max_depth = 3\n",
    "\n",
    "# Шаг\n",
    "eta = 0.4\n",
    "\n",
    "trees, train_errors, test_errors, target = gb_fit(n_trees, max_depth, X_train, X_test, y_train, y_test, eta)"
   ]
  },
  {
   "cell_type": "code",
   "execution_count": 78,
   "metadata": {},
   "outputs": [
    {
     "name": "stdout",
     "output_type": "stream",
     "text": [
      "R2:\t-0.109\n",
      "RMSE:\t15.437\n",
      "MSE:\t238.295\n"
     ]
    },
    {
     "data": {
      "image/png": "[encoded data removed]",
      "text/plain": [
       "<Figure size 360x360 with 1 Axes>"
      ]
     },
     "metadata": {},
     "output_type": "display_data"
    },
    {
     "data": {
      "text/plain": [
       "(-0.109, 238.295)"
      ]
     },
     "execution_count": 78,
     "metadata": {},
     "output_type": "execute_result"
    }
   ],
   "source": [
    "evaluate_preds(y_train, target)"
   ]
  },
  {
   "cell_type": "code",
   "execution_count": 79,
   "metadata": {},
   "outputs": [],
   "source": [
    "results_all['gboost'] = [round(r_2(y_train, target), 3), round(calc_mse(y_train, target), 3)]"
   ]
  },
  {
   "cell_type": "markdown",
   "metadata": {},
   "source": [
    "## 4.7 Выбор лучшей модели<a class='anchor' id='choose'>"
   ]
  },
  {
   "cell_type": "code",
   "execution_count": 80,
   "metadata": {},
   "outputs": [
    {
     "data": {
      "text/html": [
       "<div>\n",
       "<style scoped>\n",
       "    .dataframe tbody tr th:only-of-type {\n",
       "        vertical-align: middle;\n",
       "    }\n",
       "\n",
       "    .dataframe tbody tr th {\n",
       "        vertical-align: top;\n",
       "    }\n",
       "\n",
       "    .dataframe thead th {\n",
       "        text-align: right;\n",
       "    }\n",
       "</style>\n",
       "<table border=\"1\" class=\"dataframe\">\n",
       "  <thead>\n",
       "    <tr style=\"text-align: right;\">\n",
       "      <th></th>\n",
       "      <th>R2</th>\n",
       "      <th>MSE</th>\n",
       "    </tr>\n",
       "  </thead>\n",
       "  <tbody>\n",
       "    <tr>\n",
       "      <th>Leaner_regress</th>\n",
       "      <td>0.449</td>\n",
       "      <td>118.375</td>\n",
       "    </tr>\n",
       "    <tr>\n",
       "      <th>tree</th>\n",
       "      <td>0.590</td>\n",
       "      <td>88.051</td>\n",
       "    </tr>\n",
       "    <tr>\n",
       "      <th>gboost</th>\n",
       "      <td>-0.109</td>\n",
       "      <td>238.295</td>\n",
       "    </tr>\n",
       "  </tbody>\n",
       "</table>\n",
       "</div>"
      ],
      "text/plain": [
       "                   R2      MSE\n",
       "Leaner_regress  0.449  118.375\n",
       "tree            0.590   88.051\n",
       "gboost         -0.109  238.295"
      ]
     },
     "execution_count": 80,
     "metadata": {},
     "output_type": "execute_result"
    }
   ],
   "source": [
    "df = pd.DataFrame(results_all).T\n",
    "df.columns=['R2', 'MSE']\n",
    "\n",
    "df"
   ]
  },
  {
   "cell_type": "markdown",
   "metadata": {},
   "source": [
    "**В целом модели не совсем хорошие. В реализации градиентного бустинга, возможно, есть ошибка. R2 везде не более 70%, однако даже обработка исходных данных без нового показателя не давали точности по r2 более 70%, т.е. можно сказать, что это характеристика предоставленной выборки, что также подтверждается корреляционным анализом.**\n",
    "\n",
    "В качестве итоговой модели будем использовать модель случайного леса."
   ]
  },
  {
   "cell_type": "code",
   "execution_count": null,
   "metadata": {},
   "outputs": [],
   "source": []
  },
  {
   "cell_type": "markdown",
   "metadata": {},
   "source": [
    "# 5. Прогнозирование<a class='anchor' id='estimate'>"
   ]
  },
  {
   "cell_type": "markdown",
   "metadata": {},
   "source": [
    "## 5.1 Обработка данных<a class='anchor' id='est_ev'>"
   ]
  },
  {
   "cell_type": "code",
   "execution_count": 81,
   "metadata": {},
   "outputs": [
    {
     "name": "stdout",
     "output_type": "stream",
     "text": [
      "Memory usage of dataframe is: 0.84 MB\n",
      "Memory usage after optimization is: 0.40 MB\n",
      "Decreased by 52.3%\n"
     ]
    },
    {
     "data": {
      "text/html": [
       "<div>\n",
       "<style scoped>\n",
       "    .dataframe tbody tr th:only-of-type {\n",
       "        vertical-align: middle;\n",
       "    }\n",
       "\n",
       "    .dataframe tbody tr th {\n",
       "        vertical-align: top;\n",
       "    }\n",
       "\n",
       "    .dataframe thead th {\n",
       "        text-align: right;\n",
       "    }\n",
       "</style>\n",
       "<table border=\"1\" class=\"dataframe\">\n",
       "  <thead>\n",
       "    <tr style=\"text-align: right;\">\n",
       "      <th></th>\n",
       "      <th>Id</th>\n",
       "      <th>free</th>\n",
       "      <th>years_of_experience</th>\n",
       "      <th>qualification</th>\n",
       "      <th>physics</th>\n",
       "      <th>chemistry</th>\n",
       "      <th>biology</th>\n",
       "      <th>age_price</th>\n",
       "    </tr>\n",
       "  </thead>\n",
       "  <tbody>\n",
       "    <tr>\n",
       "      <th>0</th>\n",
       "      <td>10000</td>\n",
       "      <td>1</td>\n",
       "      <td>3.0</td>\n",
       "      <td>1.0</td>\n",
       "      <td>0.0</td>\n",
       "      <td>1.0</td>\n",
       "      <td>0.0</td>\n",
       "      <td>4</td>\n",
       "    </tr>\n",
       "    <tr>\n",
       "      <th>1</th>\n",
       "      <td>10001</td>\n",
       "      <td>1</td>\n",
       "      <td>3.0</td>\n",
       "      <td>2.0</td>\n",
       "      <td>0.0</td>\n",
       "      <td>0.0</td>\n",
       "      <td>0.0</td>\n",
       "      <td>4</td>\n",
       "    </tr>\n",
       "    <tr>\n",
       "      <th>2</th>\n",
       "      <td>10002</td>\n",
       "      <td>1</td>\n",
       "      <td>1.0</td>\n",
       "      <td>1.0</td>\n",
       "      <td>1.0</td>\n",
       "      <td>0.0</td>\n",
       "      <td>0.0</td>\n",
       "      <td>3</td>\n",
       "    </tr>\n",
       "    <tr>\n",
       "      <th>3</th>\n",
       "      <td>10003</td>\n",
       "      <td>1</td>\n",
       "      <td>6.0</td>\n",
       "      <td>3.0</td>\n",
       "      <td>1.0</td>\n",
       "      <td>0.0</td>\n",
       "      <td>1.0</td>\n",
       "      <td>5</td>\n",
       "    </tr>\n",
       "    <tr>\n",
       "      <th>4</th>\n",
       "      <td>10004</td>\n",
       "      <td>1</td>\n",
       "      <td>4.0</td>\n",
       "      <td>3.0</td>\n",
       "      <td>1.0</td>\n",
       "      <td>0.0</td>\n",
       "      <td>0.0</td>\n",
       "      <td>5</td>\n",
       "    </tr>\n",
       "  </tbody>\n",
       "</table>\n",
       "</div>"
      ],
      "text/plain": [
       "      Id  free  years_of_experience  qualification  physics  chemistry  \\\n",
       "0  10000     1                  3.0            1.0      0.0        1.0   \n",
       "1  10001     1                  3.0            2.0      0.0        0.0   \n",
       "2  10002     1                  1.0            1.0      1.0        0.0   \n",
       "3  10003     1                  6.0            3.0      1.0        0.0   \n",
       "4  10004     1                  4.0            3.0      1.0        0.0   \n",
       "\n",
       "   biology  age_price  \n",
       "0      0.0          4  \n",
       "1      0.0          4  \n",
       "2      0.0          3  \n",
       "3      1.0          5  \n",
       "4      0.0          5  "
      ]
     },
     "execution_count": 81,
     "metadata": {},
     "output_type": "execute_result"
    }
   ],
   "source": [
    "test = pd.read_csv('test.csv', sep=',')\n",
    "\n",
    "test = reduce_mem_usage(test)\n",
    "\n",
    "test = DataPreprocessing().transform(test)\n",
    "\n",
    "test.head()"
   ]
  },
  {
   "cell_type": "markdown",
   "metadata": {},
   "source": [
    "## 5.2 Применение модели и сохранение<a class='anchor' id='est_save'>"
   ]
  },
  {
   "cell_type": "code",
   "execution_count": 82,
   "metadata": {},
   "outputs": [
    {
     "data": {
      "text/plain": [
       "array([[1., 3., 1., ..., 1., 0., 4.],\n",
       "       [1., 3., 2., ..., 0., 0., 4.],\n",
       "       [1., 1., 1., ..., 0., 0., 3.],\n",
       "       ...,\n",
       "       [1., 5., 1., ..., 0., 0., 4.],\n",
       "       [1., 0., 2., ..., 0., 0., 4.],\n",
       "       [1., 5., 2., ..., 0., 0., 4.]])"
      ]
     },
     "execution_count": 82,
     "metadata": {},
     "output_type": "execute_result"
    }
   ],
   "source": [
    "np.array(test[feature_names])"
   ]
  },
  {
   "cell_type": "code",
   "execution_count": 83,
   "metadata": {
    "scrolled": true
   },
   "outputs": [],
   "source": [
    "test['mean_exam_points'] = predict(np.array(test[feature_names]), my_tree)"
   ]
  },
  {
   "cell_type": "code",
   "execution_count": 84,
   "metadata": {},
   "outputs": [
    {
     "data": {
      "image/png": "[encoded data removed]",
      "text/plain": [
       "<Figure size 302.4x216 with 1 Axes>"
      ]
     },
     "metadata": {},
     "output_type": "display_data"
    }
   ],
   "source": [
    "sns.set(font_scale=0.8, style='white')\n",
    "sns.displot(test['mean_exam_points'], kde=True, color='grey', alpha = 0.35, lw=0, height=3, aspect=1.4)\n",
    "y = np.linspace(0, 500, 10)\n",
    "plt.plot([data_mean] * 10, y, label='среднее',  linewidth=2, linestyle='--')\n",
    "plt.plot([data_median] * 10, y, label='медиана',  linewidth=2, linestyle='--')\n",
    "plt.plot([data_mode] * 10, y, label='мода',  linewidth=2, linestyle='--')\n",
    "plt.title('График распределения баллов', fontsize=10)\n",
    "plt.xlabel('баллы', fontsize=8)\n",
    "plt.ylabel('Кол-во значений', fontsize=8)\n",
    "plt.legend(fontsize=8)\n",
    "plt.show()"
   ]
  },
  {
   "cell_type": "code",
   "execution_count": 85,
   "metadata": {},
   "outputs": [],
   "source": [
    "test[['Id', 'mean_exam_points']].to_csv('Aberezikov_regression.csv', index=None)"
   ]
  }
 ],
 "metadata": {
  "kernelspec": {
   "display_name": "Python 3",
   "language": "python",
   "name": "python3"
  },
  "language_info": {
   "codemirror_mode": {
    "name": "ipython",
    "version": 3
   },
   "file_extension": ".py",
   "mimetype": "text/x-python",
   "name": "python",
   "nbconvert_exporter": "python",
   "pygments_lexer": "ipython3",
   "version": "3.8.5"
  }
 },
 "nbformat": 4,
 "nbformat_minor": 4
}
